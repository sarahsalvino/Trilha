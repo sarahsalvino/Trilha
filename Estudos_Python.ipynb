{
  "nbformat": 4,
  "nbformat_minor": 0,
  "metadata": {
    "colab": {
      "provenance": [],
      "authorship_tag": "ABX9TyPBZiQAMPMnN9GWcAdJFWVB"
    },
    "kernelspec": {
      "name": "python3",
      "display_name": "Python 3"
    },
    "language_info": {
      "name": "python"
    }
  },
  "cells": [
    {
      "cell_type": "code",
      "execution_count": null,
      "metadata": {
        "colab": {
          "base_uri": "https://localhost:8080/"
        },
        "id": "RyPk0YkC6lYB",
        "outputId": "59885448-e0e3-4778-9e12-e4d2a31d85bc",
        "collapsed": true
      },
      "outputs": [
        {
          "output_type": "stream",
          "name": "stdout",
          "text": [
            "3 x 1 = 3\n",
            "3 x 2 = 6\n",
            "3 x 3 = 9\n",
            "3 x 4 = 12\n",
            "3 x 5 = 15\n",
            "3 x 6 = 18\n",
            "3 x 7 = 21\n",
            "3 x 8 = 24\n",
            "3 x 9 = 27\n",
            "3 x 10 = 30\n"
          ]
        }
      ],
      "source": [
        "for i in range (1, 11):\n",
        "  print ('3 x {} = {}'.format(i,3*i))"
      ]
    },
    {
      "cell_type": "code",
      "source": [
        "i = 2\n",
        "f'3 x {i} = {3*i} '"
      ],
      "metadata": {
        "colab": {
          "base_uri": "https://localhost:8080/",
          "height": 35
        },
        "id": "qNmBYnBOeNKt",
        "outputId": "ecee24b5-b518-49e7-c078-ac3e70fe3be3"
      },
      "execution_count": null,
      "outputs": [
        {
          "output_type": "execute_result",
          "data": {
            "text/plain": [
              "'3 x 2 = 6 '"
            ],
            "application/vnd.google.colaboratory.intrinsic+json": {
              "type": "string"
            }
          },
          "metadata": {},
          "execution_count": 1
        }
      ]
    },
    {
      "cell_type": "code",
      "source": [
        "numero = 1\n",
        "while numero <= 10:\n",
        "    print('3 x {} = {}'.format(numero, 3 * numero))\n",
        "    numero += 1\n"
      ],
      "metadata": {
        "colab": {
          "base_uri": "https://localhost:8080/"
        },
        "id": "Mpv8EzBqgr46",
        "outputId": "7a046a11-d8de-4aec-f72c-2b6582c29f6f",
        "collapsed": true
      },
      "execution_count": null,
      "outputs": [
        {
          "output_type": "stream",
          "name": "stdout",
          "text": [
            "3 x 1 = 3\n",
            "3 x 2 = 6\n",
            "3 x 3 = 9\n",
            "3 x 4 = 12\n",
            "3 x 5 = 15\n",
            "3 x 6 = 18\n",
            "3 x 7 = 21\n",
            "3 x 8 = 24\n",
            "3 x 9 = 27\n",
            "3 x 10 = 30\n"
          ]
        }
      ]
    },
    {
      "cell_type": "markdown",
      "source": [
        "Tuplas"
      ],
      "metadata": {
        "id": "H2NFwnPz5IWT"
      }
    },
    {
      "cell_type": "code",
      "source": [
        "tupla = ('Homo sapiens', 'Canis familiars', 'Felis catus')"
      ],
      "metadata": {
        "id": "ea7ppdeA5Khk"
      },
      "execution_count": null,
      "outputs": []
    },
    {
      "cell_type": "code",
      "source": [
        "tupla"
      ],
      "metadata": {
        "colab": {
          "base_uri": "https://localhost:8080/"
        },
        "id": "hdRNKW416EUq",
        "outputId": "c1362e89-2af6-4e85-d4be-b31f0649b400",
        "collapsed": true
      },
      "execution_count": null,
      "outputs": [
        {
          "output_type": "execute_result",
          "data": {
            "text/plain": [
              "('Homo sapiens', 'Canis familiars', 'Felis catus')"
            ]
          },
          "metadata": {},
          "execution_count": 10
        }
      ]
    },
    {
      "cell_type": "code",
      "source": [
        "tupla [1]"
      ],
      "metadata": {
        "colab": {
          "base_uri": "https://localhost:8080/",
          "height": 35
        },
        "id": "O5wl5xBb6RPs",
        "outputId": "b9bc58e1-9b75-42f9-f606-ad245d01fcbe",
        "collapsed": true
      },
      "execution_count": null,
      "outputs": [
        {
          "output_type": "execute_result",
          "data": {
            "text/plain": [
              "'Canis familiars'"
            ],
            "application/vnd.google.colaboratory.intrinsic+json": {
              "type": "string"
            }
          },
          "metadata": {},
          "execution_count": 11
        }
      ]
    },
    {
      "cell_type": "code",
      "source": [
        "tupla.index('Canis familiars')"
      ],
      "metadata": {
        "colab": {
          "base_uri": "https://localhost:8080/"
        },
        "id": "hS1wnP7c6amN",
        "outputId": "da2faad3-8c70-4941-a6ff-5b4aaec1467d",
        "collapsed": true
      },
      "execution_count": null,
      "outputs": [
        {
          "output_type": "execute_result",
          "data": {
            "text/plain": [
              "1"
            ]
          },
          "metadata": {},
          "execution_count": 19
        }
      ]
    },
    {
      "cell_type": "code",
      "source": [
        "for elemento in tupla:\n",
        "  print(elemento)"
      ],
      "metadata": {
        "id": "Gw1u9HXtwq54",
        "colab": {
          "base_uri": "https://localhost:8080/"
        },
        "outputId": "307cf945-d8f7-4d38-a1b6-d1f52da575a5",
        "collapsed": true
      },
      "execution_count": null,
      "outputs": [
        {
          "output_type": "stream",
          "name": "stdout",
          "text": [
            "Homo sapiens\n",
            "Canis familiars\n",
            "Felis catus\n"
          ]
        }
      ]
    },
    {
      "cell_type": "code",
      "source": [],
      "metadata": {
        "id": "jMZL1tFUoSp6"
      },
      "execution_count": null,
      "outputs": []
    },
    {
      "cell_type": "markdown",
      "source": [
        "Listas"
      ],
      "metadata": {
        "id": "EwsMHFFt2-kh"
      }
    },
    {
      "cell_type": "code",
      "source": [
        "teste1 = ['Homo sapiens', ' Canis familiaris', 'Felis catus']\n",
        "teste2 = ['Xenopus laveis', 'Ailuropoda melanoleuca']"
      ],
      "metadata": {
        "id": "-XFy0UiY3APf"
      },
      "execution_count": null,
      "outputs": []
    },
    {
      "cell_type": "code",
      "source": [
        "teste3 = teste1 + teste2\n",
        "print(teste3)"
      ],
      "metadata": {
        "colab": {
          "base_uri": "https://localhost:8080/"
        },
        "id": "WJF9KTCq5Eg4",
        "outputId": "7a18bcab-34e6-47ec-8cf0-6a51a4f42c05"
      },
      "execution_count": null,
      "outputs": [
        {
          "output_type": "stream",
          "name": "stdout",
          "text": [
            "['Homo sapiens', ' Canis familiaris', 'Felis catus', 'Xenopus laveis', 'Ailuropoda melanoleuca']\n"
          ]
        }
      ]
    },
    {
      "cell_type": "code",
      "source": [
        "teste2"
      ],
      "metadata": {
        "colab": {
          "base_uri": "https://localhost:8080/"
        },
        "id": "4BIE_GMZ5Mwx",
        "outputId": "aef49e6d-1715-433a-e431-5ada4c9fbc91"
      },
      "execution_count": null,
      "outputs": [
        {
          "output_type": "execute_result",
          "data": {
            "text/plain": [
              "['Xenopus laveis', 'Ailuropoda melanoleuca']"
            ]
          },
          "metadata": {},
          "execution_count": 10
        }
      ]
    },
    {
      "cell_type": "code",
      "source": [
        "teste4 = teste1 * 2\n",
        "print (teste4)"
      ],
      "metadata": {
        "colab": {
          "base_uri": "https://localhost:8080/"
        },
        "id": "Plix3dL95XZB",
        "outputId": "a8a52375-9a5b-4806-a27c-7e6812820e8b"
      },
      "execution_count": null,
      "outputs": [
        {
          "output_type": "stream",
          "name": "stdout",
          "text": [
            "['Homo sapiens', ' Canis familiaris', 'Felis catus', 'Homo sapiens', ' Canis familiaris', 'Felis catus']\n"
          ]
        }
      ]
    },
    {
      "cell_type": "code",
      "source": [
        "teste1[0]"
      ],
      "metadata": {
        "colab": {
          "base_uri": "https://localhost:8080/",
          "height": 35
        },
        "id": "Ih479GW95l0h",
        "outputId": "9028d39c-1bb8-4c6b-ffeb-29d50d6978b5"
      },
      "execution_count": null,
      "outputs": [
        {
          "output_type": "execute_result",
          "data": {
            "text/plain": [
              "'Homo sapiens'"
            ],
            "application/vnd.google.colaboratory.intrinsic+json": {
              "type": "string"
            }
          },
          "metadata": {},
          "execution_count": 12
        }
      ]
    },
    {
      "cell_type": "code",
      "source": [
        "teste1[0:2]"
      ],
      "metadata": {
        "colab": {
          "base_uri": "https://localhost:8080/"
        },
        "id": "OSfM8ijt5sxy",
        "outputId": "c2c3d3c8-7d22-423c-b555-499f7ade3155"
      },
      "execution_count": null,
      "outputs": [
        {
          "output_type": "execute_result",
          "data": {
            "text/plain": [
              "['Homo sapiens', ' Canis familiaris']"
            ]
          },
          "metadata": {},
          "execution_count": 13
        }
      ]
    },
    {
      "cell_type": "code",
      "source": [
        "teste1.append('Cat kitten')\n",
        "print (teste1)"
      ],
      "metadata": {
        "colab": {
          "base_uri": "https://localhost:8080/"
        },
        "id": "XDz2nPOzDLNF",
        "outputId": "c7da9007-5909-482b-894a-ca4600a05ebc"
      },
      "execution_count": null,
      "outputs": [
        {
          "output_type": "stream",
          "name": "stdout",
          "text": [
            "['Homo sapiens', ' Canis familiaris', 'Felis catus', 'Cat kitten']\n"
          ]
        }
      ]
    },
    {
      "cell_type": "code",
      "source": [
        "teste1.remove('Homo sapiens')\n",
        "print(teste1)"
      ],
      "metadata": {
        "colab": {
          "base_uri": "https://localhost:8080/"
        },
        "id": "oN6vLDCvEQKK",
        "outputId": "e6597bdb-23a1-46ec-df15-ea8a6e6dabaf"
      },
      "execution_count": null,
      "outputs": [
        {
          "output_type": "stream",
          "name": "stdout",
          "text": [
            "[' Canis familiaris', 'Felis catus', 'Cat kitten']\n"
          ]
        }
      ]
    },
    {
      "cell_type": "code",
      "source": [
        "del (teste1)"
      ],
      "metadata": {
        "id": "DTyal78VEaOo"
      },
      "execution_count": null,
      "outputs": []
    },
    {
      "cell_type": "code",
      "source": [
        "for item in teste3:\n",
        "  print(item)"
      ],
      "metadata": {
        "colab": {
          "base_uri": "https://localhost:8080/"
        },
        "id": "8ropqulqEdmm",
        "outputId": "e418c167-1c8e-4d3e-a25e-194d51be349e"
      },
      "execution_count": null,
      "outputs": [
        {
          "output_type": "stream",
          "name": "stdout",
          "text": [
            "Homo sapiens\n",
            " Canis familiaris\n",
            "Felis catus\n",
            "Xenopus laveis\n",
            "Ailuropoda melanoleuca\n"
          ]
        }
      ]
    },
    {
      "cell_type": "markdown",
      "source": [
        "Dicionários"
      ],
      "metadata": {
        "id": "AaD4fix0RePu"
      }
    },
    {
      "cell_type": "code",
      "source": [
        "coleta = {'Aedes aegypt' : 32, 'Aedes albopictus': 22, 'Anopheles darlingi': 14}"
      ],
      "metadata": {
        "id": "o3Zi4H5LRiIk"
      },
      "execution_count": null,
      "outputs": []
    },
    {
      "cell_type": "code",
      "source": [
        "coleta ['Aedes aegypt']"
      ],
      "metadata": {
        "colab": {
          "base_uri": "https://localhost:8080/"
        },
        "id": "I0B_ZAdOSC2_",
        "outputId": "469a94dc-dd6d-4423-fcfa-f2197dbca928"
      },
      "execution_count": null,
      "outputs": [
        {
          "output_type": "execute_result",
          "data": {
            "text/plain": [
              "32"
            ]
          },
          "metadata": {},
          "execution_count": 19
        }
      ]
    },
    {
      "cell_type": "code",
      "source": [
        "coleta ['Rhodnius montenegrensis'] = 11"
      ],
      "metadata": {
        "id": "BKaCja5eSMXO"
      },
      "execution_count": null,
      "outputs": []
    },
    {
      "cell_type": "code",
      "source": [
        "print (coleta)"
      ],
      "metadata": {
        "colab": {
          "base_uri": "https://localhost:8080/"
        },
        "id": "hItkfVmlSVPd",
        "outputId": "b5ef64d5-e92c-4572-da5b-e948b027aca8"
      },
      "execution_count": null,
      "outputs": [
        {
          "output_type": "stream",
          "name": "stdout",
          "text": [
            "{'Aedes aegypt': 32, 'Aedes albopictus': 22, 'Anopheles darlingi': 14, 'Rhodnius montenegrensis': 11}\n"
          ]
        }
      ]
    },
    {
      "cell_type": "code",
      "source": [
        "del (coleta) ['Aedes albopictus']\n",
        "print(coleta)"
      ],
      "metadata": {
        "colab": {
          "base_uri": "https://localhost:8080/"
        },
        "id": "iHfo0ht5SaoL",
        "outputId": "d9058695-69d8-40e9-999d-7b07d36c12a4"
      },
      "execution_count": null,
      "outputs": [
        {
          "output_type": "stream",
          "name": "stdout",
          "text": [
            "{'Aedes aegypt': 32, 'Anopheles darlingi': 14, 'Rhodnius montenegrensis': 11}\n"
          ]
        }
      ]
    },
    {
      "cell_type": "code",
      "source": [
        "coleta.items()"
      ],
      "metadata": {
        "colab": {
          "base_uri": "https://localhost:8080/"
        },
        "id": "ObhZe83MSvHr",
        "outputId": "a4415b6b-66bb-45f6-e4cd-c642951069b3"
      },
      "execution_count": null,
      "outputs": [
        {
          "output_type": "execute_result",
          "data": {
            "text/plain": [
              "dict_items([('Aedes aegypt', 32), ('Anopheles darlingi', 14), ('Rhodnius montenegrensis', 11)])"
            ]
          },
          "metadata": {},
          "execution_count": 24
        }
      ]
    },
    {
      "cell_type": "code",
      "source": [
        "coleta.keys()"
      ],
      "metadata": {
        "colab": {
          "base_uri": "https://localhost:8080/"
        },
        "id": "Q_6XEM96S5cf",
        "outputId": "a555c48d-589a-4692-e042-7e38943f0c43"
      },
      "execution_count": null,
      "outputs": [
        {
          "output_type": "execute_result",
          "data": {
            "text/plain": [
              "dict_keys(['Aedes aegypt', 'Anopheles darlingi', 'Rhodnius montenegrensis'])"
            ]
          },
          "metadata": {},
          "execution_count": 25
        }
      ]
    },
    {
      "cell_type": "code",
      "source": [
        "coleta.values()"
      ],
      "metadata": {
        "colab": {
          "base_uri": "https://localhost:8080/"
        },
        "id": "lZ8Nsqt1S-4K",
        "outputId": "b0d9ede0-a114-41c2-bf4f-5f33db001b43"
      },
      "execution_count": null,
      "outputs": [
        {
          "output_type": "execute_result",
          "data": {
            "text/plain": [
              "dict_values([32, 14, 11])"
            ]
          },
          "metadata": {},
          "execution_count": 26
        }
      ]
    },
    {
      "cell_type": "code",
      "source": [
        "coleta2 = {'Anopheles gambiae' : 13, 'Anopheles deaneorum' : 14}\n",
        "print (coleta2)"
      ],
      "metadata": {
        "colab": {
          "base_uri": "https://localhost:8080/"
        },
        "id": "TX5SI5heTFVY",
        "outputId": "4ffc9eba-49a0-42bc-a2d3-28e5e3877ae2"
      },
      "execution_count": null,
      "outputs": [
        {
          "output_type": "stream",
          "name": "stdout",
          "text": [
            "{'Anopheles gambiae': 13, 'Anopheles deaneorum': 14}\n"
          ]
        }
      ]
    },
    {
      "cell_type": "code",
      "source": [
        "coleta.update(coleta2)\n",
        "print(coleta)"
      ],
      "metadata": {
        "colab": {
          "base_uri": "https://localhost:8080/"
        },
        "id": "PuWrGnPUUbHf",
        "outputId": "24d3dacb-8e51-4e6f-9bf9-c11b85f6fb69"
      },
      "execution_count": null,
      "outputs": [
        {
          "output_type": "stream",
          "name": "stdout",
          "text": [
            "{'Aedes aegypt': 32, 'Aedes albopictus': 22, 'Anopheles darlingi': 14, 'Anopheles gambiae': 13, 'Anopheles deaneorum': 14}\n"
          ]
        }
      ]
    },
    {
      "cell_type": "code",
      "source": [
        "coleta.items()"
      ],
      "metadata": {
        "colab": {
          "base_uri": "https://localhost:8080/"
        },
        "id": "-lGmdfjsUkR-",
        "outputId": "ef02b742-8ab9-4cdf-b8a7-21abdc795e43"
      },
      "execution_count": null,
      "outputs": [
        {
          "output_type": "execute_result",
          "data": {
            "text/plain": [
              "dict_items([('Aedes aegypt', 32), ('Aedes albopictus', 22), ('Anopheles darlingi', 14), ('Anopheles gambiae', 13), ('Anopheles deaneorum', 14)])"
            ]
          },
          "metadata": {},
          "execution_count": 5
        }
      ]
    },
    {
      "cell_type": "code",
      "source": [
        "for especie, num_especimes in coleta.items():\n",
        "  print (f'Espécie: {especie}, número de espécies coletados: {num_especimes}')"
      ],
      "metadata": {
        "colab": {
          "base_uri": "https://localhost:8080/"
        },
        "id": "mCUNvKf8P_4K",
        "outputId": "bd57582b-4eca-4069-84e1-4877190f80e6"
      },
      "execution_count": null,
      "outputs": [
        {
          "output_type": "stream",
          "name": "stdout",
          "text": [
            "Espécie: Aedes aegypt, número de espécies coletados: 32\n",
            "Espécie: Aedes albopictus, número de espécies coletados: 22\n",
            "Espécie: Anopheles darlingi, número de espécies coletados: 14\n",
            "Espécie: Anopheles gambiae, número de espécies coletados: 13\n",
            "Espécie: Anopheles deaneorum, número de espécies coletados: 14\n"
          ]
        }
      ]
    },
    {
      "cell_type": "markdown",
      "source": [
        "Conjuntos (SET)\n"
      ],
      "metadata": {
        "id": "ulIF8H7TQrI5"
      }
    },
    {
      "cell_type": "code",
      "source": [
        "biomoleculas = ( ' proteína','ácidos nucelicos', 'carboidrato', 'lipídeo', 'ácidos nucelicos', 'carboidrato', 'carboidrato', 'carboidrato')"
      ],
      "metadata": {
        "id": "T2memltyQuIW"
      },
      "execution_count": null,
      "outputs": []
    },
    {
      "cell_type": "code",
      "source": [
        "print(biomoleculas)"
      ],
      "metadata": {
        "colab": {
          "base_uri": "https://localhost:8080/"
        },
        "id": "wECE7zYfSOiP",
        "outputId": "344e2385-9f49-4dcb-9155-f4722074bff1"
      },
      "execution_count": null,
      "outputs": [
        {
          "output_type": "stream",
          "name": "stdout",
          "text": [
            "(' proteína', 'ácidos nucelicos', 'carboidrato', 'lipídeo', 'ácidos nucelicos', 'carboidrato', 'carboidrato', 'carboidrato')\n"
          ]
        }
      ]
    },
    {
      "cell_type": "code",
      "source": [
        "print(set(biomoleculas))"
      ],
      "metadata": {
        "colab": {
          "base_uri": "https://localhost:8080/"
        },
        "id": "59UdR-UcSYN7",
        "outputId": "175a1044-4fd1-457d-b803-cbb7be80c623"
      },
      "execution_count": null,
      "outputs": [
        {
          "output_type": "stream",
          "name": "stdout",
          "text": [
            "{'carboidrato', 'lipídeo', ' proteína', 'ácidos nucelicos'}\n"
          ]
        }
      ]
    },
    {
      "cell_type": "code",
      "source": [
        "c1 = {1,2,3,4,5}\n",
        "c2 = {3,4,5,6,7}\n",
        "c3 = c1.intersection(c2)"
      ],
      "metadata": {
        "id": "9wbIFIRBx5LV"
      },
      "execution_count": null,
      "outputs": []
    },
    {
      "cell_type": "code",
      "source": [
        "print (c3)"
      ],
      "metadata": {
        "colab": {
          "base_uri": "https://localhost:8080/"
        },
        "id": "mNKsKvwY_Cyl",
        "outputId": "2b6d07e9-e902-413e-eb7c-b30819b7cf17"
      },
      "execution_count": null,
      "outputs": [
        {
          "output_type": "stream",
          "name": "stdout",
          "text": [
            "{3, 4, 5}\n"
          ]
        }
      ]
    },
    {
      "cell_type": "code",
      "source": [
        "c1.difference(c2)"
      ],
      "metadata": {
        "colab": {
          "base_uri": "https://localhost:8080/"
        },
        "id": "j3LO7MIKBBkO",
        "outputId": "cc96db82-e1b0-44f0-9e49-70f05c07b6c3"
      },
      "execution_count": null,
      "outputs": [
        {
          "output_type": "execute_result",
          "data": {
            "text/plain": [
              "{1, 2}"
            ]
          },
          "metadata": {},
          "execution_count": 4
        }
      ]
    },
    {
      "cell_type": "code",
      "source": [
        "c2.difference(c1)"
      ],
      "metadata": {
        "colab": {
          "base_uri": "https://localhost:8080/"
        },
        "id": "PnfjM9GQBN1d",
        "outputId": "5e0ce945-c482-4d63-92b9-d75faf6543f0"
      },
      "execution_count": null,
      "outputs": [
        {
          "output_type": "execute_result",
          "data": {
            "text/plain": [
              "{6, 7}"
            ]
          },
          "metadata": {},
          "execution_count": 5
        }
      ]
    },
    {
      "cell_type": "markdown",
      "source": [
        "Matrizes\n"
      ],
      "metadata": {
        "id": "ejk14VF1Ei1w"
      }
    },
    {
      "cell_type": "code",
      "source": [
        "import numpy as np"
      ],
      "metadata": {
        "id": "y76LAv4JEkqk"
      },
      "execution_count": null,
      "outputs": []
    },
    {
      "cell_type": "code",
      "source": [
        "matriz = np.array([[2,3,1], [4, 5, 7]])"
      ],
      "metadata": {
        "id": "kzG2d8CwGwtx"
      },
      "execution_count": null,
      "outputs": []
    },
    {
      "cell_type": "code",
      "source": [
        "matriz"
      ],
      "metadata": {
        "colab": {
          "base_uri": "https://localhost:8080/"
        },
        "id": "FIYGydDr36H1",
        "outputId": "599da0b0-2261-4a22-8425-582e98d06bc3"
      },
      "execution_count": null,
      "outputs": [
        {
          "output_type": "execute_result",
          "data": {
            "text/plain": [
              "array([[2, 3, 1],\n",
              "       [4, 5, 7]])"
            ]
          },
          "metadata": {},
          "execution_count": 4
        }
      ]
    },
    {
      "cell_type": "code",
      "source": [
        "matriz.shape"
      ],
      "metadata": {
        "colab": {
          "base_uri": "https://localhost:8080/"
        },
        "id": "36dTTLfD4ABU",
        "outputId": "41a899b1-3491-4543-9dff-475a8df119be"
      },
      "execution_count": null,
      "outputs": [
        {
          "output_type": "execute_result",
          "data": {
            "text/plain": [
              "(2, 3)"
            ]
          },
          "metadata": {},
          "execution_count": 5
        }
      ]
    },
    {
      "cell_type": "code",
      "source": [
        "matriz[0]"
      ],
      "metadata": {
        "colab": {
          "base_uri": "https://localhost:8080/"
        },
        "id": "95DSuXee4DB1",
        "outputId": "ae1054d0-a989-4a7c-bd01-e8cfbd8ca505"
      },
      "execution_count": null,
      "outputs": [
        {
          "output_type": "execute_result",
          "data": {
            "text/plain": [
              "array([2, 3, 1])"
            ]
          },
          "metadata": {},
          "execution_count": 6
        }
      ]
    },
    {
      "cell_type": "code",
      "source": [
        "matriz[1]"
      ],
      "metadata": {
        "colab": {
          "base_uri": "https://localhost:8080/"
        },
        "id": "H0nyZBys5TUQ",
        "outputId": "5a55602e-658d-419b-b445-79276a45dbbd"
      },
      "execution_count": null,
      "outputs": [
        {
          "output_type": "execute_result",
          "data": {
            "text/plain": [
              "array([4, 5, 7])"
            ]
          },
          "metadata": {},
          "execution_count": 7
        }
      ]
    },
    {
      "cell_type": "code",
      "source": [
        "matriz[0][0]"
      ],
      "metadata": {
        "colab": {
          "base_uri": "https://localhost:8080/"
        },
        "id": "jyjNEhtr5XZw",
        "outputId": "174ee3be-923e-4add-e49f-68d81df18f65"
      },
      "execution_count": null,
      "outputs": [
        {
          "output_type": "execute_result",
          "data": {
            "text/plain": [
              "2"
            ]
          },
          "metadata": {},
          "execution_count": 8
        }
      ]
    },
    {
      "cell_type": "code",
      "source": [
        "for i in range(matriz.shape[0]):\n",
        "  print (matriz[i])\n",
        "  for j in range(matriz.shape[1]):\n",
        "    print (matriz[i][j])"
      ],
      "metadata": {
        "colab": {
          "base_uri": "https://localhost:8080/"
        },
        "id": "G6mBweAe7LcR",
        "outputId": "2e30ad90-5a6f-4731-9e5e-9e3d73c86ab4"
      },
      "execution_count": null,
      "outputs": [
        {
          "output_type": "stream",
          "name": "stdout",
          "text": [
            "[2 3 1]\n",
            "2\n",
            "3\n",
            "1\n",
            "[4 5 7]\n",
            "4\n",
            "5\n",
            "7\n"
          ]
        }
      ]
    },
    {
      "cell_type": "markdown",
      "source": [
        "Funções com parâmetro\n"
      ],
      "metadata": {
        "id": "QgiTGcMsfSSF"
      }
    },
    {
      "cell_type": "code",
      "source": [
        "def mensagem():\n",
        "  print('texto da função')"
      ],
      "metadata": {
        "id": "LIhTPbH9fUcM"
      },
      "execution_count": null,
      "outputs": []
    },
    {
      "cell_type": "code",
      "source": [
        "mensagem()\n",
        "mensagem()\n",
        "mensagem()"
      ],
      "metadata": {
        "colab": {
          "base_uri": "https://localhost:8080/"
        },
        "id": "T-YFNPTTgP4-",
        "outputId": "65a75572-c69b-464e-db02-760d0686bbbe"
      },
      "execution_count": null,
      "outputs": [
        {
          "output_type": "stream",
          "name": "stdout",
          "text": [
            "texto da função\n",
            "texto da função\n",
            "texto da função\n"
          ]
        }
      ]
    },
    {
      "cell_type": "markdown",
      "source": [
        "Função com passagem de parâmetro"
      ],
      "metadata": {
        "id": "e6nm2uBJgfIl"
      }
    },
    {
      "cell_type": "code",
      "source": [
        "def mensagem(texto):\n",
        "  print(texto)"
      ],
      "metadata": {
        "id": "MgtyxWY4ghmc"
      },
      "execution_count": null,
      "outputs": []
    },
    {
      "cell_type": "code",
      "source": [
        "mensagem('texto 1')\n",
        "mensagem('texto 2')\n",
        "mensagem('texto 3')"
      ],
      "metadata": {
        "colab": {
          "base_uri": "https://localhost:8080/"
        },
        "id": "A-5WtM71gnBI",
        "outputId": "db8229e3-bf63-4eff-9654-2c5d992bddc6"
      },
      "execution_count": null,
      "outputs": [
        {
          "output_type": "stream",
          "name": "stdout",
          "text": [
            "texto 1\n",
            "texto 2\n",
            "texto 3\n"
          ]
        }
      ]
    },
    {
      "cell_type": "code",
      "source": [
        "def soma(a, b):\n",
        "  print(a + b)"
      ],
      "metadata": {
        "id": "GXg-YeBOhNNt"
      },
      "execution_count": null,
      "outputs": []
    },
    {
      "cell_type": "code",
      "source": [
        "soma(2, 3)"
      ],
      "metadata": {
        "colab": {
          "base_uri": "https://localhost:8080/"
        },
        "id": "06Xhz82HhQxe",
        "outputId": "b4c012ad-6011-4652-82d0-7ed8bf5a2ba7"
      },
      "execution_count": null,
      "outputs": [
        {
          "output_type": "stream",
          "name": "stdout",
          "text": [
            "5\n"
          ]
        }
      ]
    },
    {
      "cell_type": "code",
      "source": [
        "soma(3, 3)\n",
        "soma (1, 2)"
      ],
      "metadata": {
        "colab": {
          "base_uri": "https://localhost:8080/"
        },
        "id": "vOcxCLLchUvP",
        "outputId": "2bf4c459-04c3-4e07-e2ff-61dc736d1291"
      },
      "execution_count": null,
      "outputs": [
        {
          "output_type": "stream",
          "name": "stdout",
          "text": [
            "6\n",
            "3\n"
          ]
        }
      ]
    },
    {
      "cell_type": "markdown",
      "source": [
        "Função com passagem de parâmetro e retorno"
      ],
      "metadata": {
        "id": "jCgXi5MkiBVE"
      }
    },
    {
      "cell_type": "code",
      "source": [
        "def soma (a, b):\n",
        "  return a + b"
      ],
      "metadata": {
        "id": "GIgjOu3iiIxV"
      },
      "execution_count": null,
      "outputs": []
    },
    {
      "cell_type": "code",
      "source": [
        "soma (3, 2)"
      ],
      "metadata": {
        "colab": {
          "base_uri": "https://localhost:8080/"
        },
        "id": "moraAIT8iZCH",
        "outputId": "7ec61f8a-e1a1-4f3d-e91c-8a244e508bd0"
      },
      "execution_count": null,
      "outputs": [
        {
          "output_type": "stream",
          "name": "stdout",
          "text": [
            "5\n"
          ]
        }
      ]
    },
    {
      "cell_type": "code",
      "source": [
        "#r = 7\n",
        "r = soma(3, 2)\n",
        "print (r)"
      ],
      "metadata": {
        "colab": {
          "base_uri": "https://localhost:8080/"
        },
        "id": "Lt22yE15iqO0",
        "outputId": "51152d63-fcba-4f59-f58a-00256070b575"
      },
      "execution_count": null,
      "outputs": [
        {
          "output_type": "stream",
          "name": "stdout",
          "text": [
            "5\n",
            "None\n"
          ]
        }
      ]
    },
    {
      "cell_type": "code",
      "source": [
        "def calcula_energia_potencial_gravitacional(m, h, g = 10):\n",
        "  ''''\n",
        "  essa função calcula...\n",
        "  ''''\n",
        "  e = g* m * h\n",
        "  return e"
      ],
      "metadata": {
        "id": "WpFDOlakjcm8"
      },
      "execution_count": null,
      "outputs": []
    },
    {
      "cell_type": "code",
      "source": [
        "calcula_energia_potencial_gravitacional(30, 12)"
      ],
      "metadata": {
        "colab": {
          "base_uri": "https://localhost:8080/"
        },
        "id": "hbTOLQKljxET",
        "outputId": "4f25c697-009c-4dab-f16e-566b6449aaaa"
      },
      "execution_count": null,
      "outputs": [
        {
          "output_type": "execute_result",
          "data": {
            "text/plain": [
              "3600"
            ]
          },
          "metadata": {},
          "execution_count": 15
        }
      ]
    },
    {
      "cell_type": "code",
      "source": [
        "calcula_energia_potencial_gravitacional(30, 12, 9.8)"
      ],
      "metadata": {
        "colab": {
          "base_uri": "https://localhost:8080/"
        },
        "id": "CE_sfgcdj6mk",
        "outputId": "4df876b4-6f75-4f22-c123-75078d166af3"
      },
      "execution_count": null,
      "outputs": [
        {
          "output_type": "execute_result",
          "data": {
            "text/plain": [
              "3528.0"
            ]
          },
          "metadata": {},
          "execution_count": 16
        }
      ]
    },
    {
      "cell_type": "code",
      "source": [
        "help(calcula_energia_potencial_gravitacional)"
      ],
      "metadata": {
        "colab": {
          "base_uri": "https://localhost:8080/"
        },
        "id": "6-Ra8xz8kLLD",
        "outputId": "b2768780-546b-4b17-958f-11082d77d3cd"
      },
      "execution_count": null,
      "outputs": [
        {
          "output_type": "stream",
          "name": "stdout",
          "text": [
            "Help on function calcula_energia_potencial_gravitacional in module __main__:\n",
            "\n",
            "calcula_energia_potencial_gravitacional(m, h, g=10)\n",
            "\n"
          ]
        }
      ]
    },
    {
      "cell_type": "markdown",
      "source": [
        "Módulos úteis - Math e datetime"
      ],
      "metadata": {
        "id": "vrGRUYEma2_s"
      }
    },
    {
      "cell_type": "code",
      "source": [],
      "metadata": {
        "id": "9vI7ihaebCkq"
      },
      "execution_count": null,
      "outputs": []
    },
    {
      "cell_type": "markdown",
      "source": [
        "Exercicio 1\n"
      ],
      "metadata": {
        "id": "5UYCbwtmfMvQ"
      }
    },
    {
      "cell_type": "code",
      "source": [
        "lista = []\n",
        "for i in [1, 2, 3, 4, 5]:\n",
        "  x = input()\n",
        "  x = int(x)\n",
        "  lista.append(x)\n",
        "print (lista)"
      ],
      "metadata": {
        "colab": {
          "base_uri": "https://localhost:8080/"
        },
        "id": "7mz80qAcfOzS",
        "outputId": "5d2456d7-01b6-49f0-9c4b-d17daaf05223"
      },
      "execution_count": null,
      "outputs": [
        {
          "output_type": "stream",
          "name": "stdout",
          "text": [
            "15\n",
            "14\n",
            "13\n",
            "6\n",
            "8\n",
            "[15, 14, 13, 6, 8]\n"
          ]
        }
      ]
    },
    {
      "cell_type": "code",
      "source": [
        "soma = 0\n",
        "for x in lista:\n",
        "  soma = soma+x\n",
        "  print(x,soma)"
      ],
      "metadata": {
        "colab": {
          "base_uri": "https://localhost:8080/"
        },
        "id": "out2j6cng2tL",
        "outputId": "db2f9ac0-fb1d-4965-e251-0350f390bf47"
      },
      "execution_count": null,
      "outputs": [
        {
          "output_type": "stream",
          "name": "stdout",
          "text": [
            "15 15\n",
            "14 29\n",
            "13 42\n",
            "6 48\n",
            "8 56\n"
          ]
        }
      ]
    },
    {
      "cell_type": "code",
      "source": [
        "dicionario = {}\n",
        "for i in [1, 2, 3, 4, 5]:\n",
        "  nome= input()\n",
        "  nota = int(input())\n",
        "  dicionario[nome] = nota\n",
        "print (dicionario)"
      ],
      "metadata": {
        "colab": {
          "base_uri": "https://localhost:8080/"
        },
        "id": "xX465jH0jZda",
        "outputId": "484cb144-cde6-4704-9bf4-0dce7bacc6aa"
      },
      "execution_count": null,
      "outputs": [
        {
          "output_type": "stream",
          "name": "stdout",
          "text": [
            "joao\n",
            "14\n",
            "maria\n",
            "17\n",
            "vinicius\n",
            "45\n",
            "vitoria \n",
            "12\n",
            "gabi\n",
            "9\n",
            "{'joao': 14, 'maria': 17, 'vinicius': 45, 'vitoria ': 12, 'gabi': 9}\n"
          ]
        }
      ]
    },
    {
      "cell_type": "code",
      "source": [
        "soma_notas = 0\n",
        "for nota in dicionario.values():\n",
        "    soma_notas += nota\n",
        "\n",
        "media = soma_notas / len(dicionario)\n",
        "\n",
        "print(\"Nota dos alunos\", dicionario)\n",
        "print(\"Média das notas:\", media)"
      ],
      "metadata": {
        "colab": {
          "base_uri": "https://localhost:8080/"
        },
        "id": "suEKSVho-02s",
        "outputId": "c9631703-8f5b-4bee-edb9-eb883cdc381f"
      },
      "execution_count": null,
      "outputs": [
        {
          "output_type": "stream",
          "name": "stdout",
          "text": [
            "Nota dos alunos {'joao': 14, 'maria': 17, 'vinicius': 45, 'vitoria ': 12, 'gabi': 9}\n",
            "Média das notas: 19.4\n"
          ]
        }
      ]
    },
    {
      "cell_type": "markdown",
      "source": [
        "AULA LÓGICA DE PROGRAMAÇÃO"
      ],
      "metadata": {
        "id": "ItLoYOQwgAqO"
      }
    },
    {
      "cell_type": "code",
      "source": [
        "print('Digite o valor1: ')\n",
        "valor1 = float(input())\n",
        "print('Digite o valor2: ')\n",
        "valor2 = float(input())\n",
        "\n",
        "#print(valor1, valor2)\n",
        "\n",
        "soma = valor1 + valor2\n",
        "subtracao = valor1 - valor2\n",
        "multiplicacao = valor1 * valor2\n",
        "divisao = valor1 / valor2\n",
        "\n",
        "print('Soma: ', soma)\n",
        "print('Subtração ',subtracao)\n",
        "print('Multiplicação ', multiplicacao)\n",
        "print('Divisão ', divisao)"
      ],
      "metadata": {
        "colab": {
          "base_uri": "https://localhost:8080/"
        },
        "id": "D8n6A38cgH91",
        "outputId": "4c4c1435-6aaa-428a-eb79-d780c2696852"
      },
      "execution_count": null,
      "outputs": [
        {
          "output_type": "stream",
          "name": "stdout",
          "text": [
            "Digite o valor1: \n",
            "45\n",
            "Digite o valor2: \n",
            "863\n",
            "Soma:  908.0\n",
            "Subtração  -818.0\n",
            "Multiplicação  38835.0\n",
            "Divisão  0.05214368482039398\n"
          ]
        }
      ]
    },
    {
      "cell_type": "markdown",
      "source": [
        "Exercicio 1"
      ],
      "metadata": {
        "id": "qI_JxfIAlGRG"
      }
    },
    {
      "cell_type": "code",
      "source": [
        "C= float(input(\"Insira o grau da temperatura: \"))\n",
        "\n",
        "print (C)\n",
        "\n",
        "F = 9 * C + 160 / 5\n",
        "\n",
        "print(\" O valor da temperatura convertida é \", F)"
      ],
      "metadata": {
        "colab": {
          "base_uri": "https://localhost:8080/"
        },
        "id": "iLmnbQErlJaO",
        "outputId": "e79d1e6b-c64d-4fe3-b71e-66cf7bb571dd"
      },
      "execution_count": null,
      "outputs": [
        {
          "output_type": "stream",
          "name": "stdout",
          "text": [
            "Insira o grau da temperatura: 45\n",
            "45.0\n",
            " O valor da temperatura convertida é  437.0\n"
          ]
        }
      ]
    },
    {
      "cell_type": "markdown",
      "source": [
        "Exerc 2"
      ],
      "metadata": {
        "id": "dhiKRZRipC9g"
      }
    },
    {
      "cell_type": "code",
      "source": [
        "comprimento = float(input(\"Insira o valor do comprimento:\"))\n",
        "\n",
        "largura = float(input(\"Insira o valor da largura:\"))\n",
        "\n",
        "altura = float(input(\"Insira o valor da altura: \"))\n",
        "\n",
        "volume = comprimento * largura * altura\n",
        "\n",
        "print(\"O valor do volume da caixa é: \", volume )"
      ],
      "metadata": {
        "colab": {
          "base_uri": "https://localhost:8080/"
        },
        "id": "EeO826cJpE1H",
        "outputId": "2b75c3e8-70d7-4b82-ef63-655b50a3ac80"
      },
      "execution_count": null,
      "outputs": [
        {
          "output_type": "stream",
          "name": "stdout",
          "text": [
            "Insira o valor do comprimento:56\n",
            "Insira o valor da largura:89\n",
            "Insira o valor da altura: 12\n",
            "O valor do volume da caixa é:  59808.0\n"
          ]
        }
      ]
    },
    {
      "cell_type": "markdown",
      "source": [
        "Exerc 3"
      ],
      "metadata": {
        "id": "ZbSmCB3hx7qL"
      }
    },
    {
      "cell_type": "code",
      "source": [
        "base= int(input(\"Insira o valor da base: \"))\n",
        "altura = int(input(\"Insitura o valor da altura: \"))\n",
        "\n",
        "area = (base * altura / 2)\n",
        "\n",
        "print(\"O valor da base e altura é: \", area)"
      ],
      "metadata": {
        "colab": {
          "base_uri": "https://localhost:8080/"
        },
        "id": "aQLmbSRix8u1",
        "outputId": "d04bf5dd-c04a-49d6-a48e-a8a5d8fd5f09"
      },
      "execution_count": null,
      "outputs": [
        {
          "output_type": "stream",
          "name": "stdout",
          "text": [
            "Insira o valor da base: 13\n",
            "Insitura o valor da altura: 15\n",
            "O valor da base e altura é:  97.5\n"
          ]
        }
      ]
    },
    {
      "cell_type": "markdown",
      "source": [
        "exerc 4"
      ],
      "metadata": {
        "id": "mCU-XPf5znxn"
      }
    },
    {
      "cell_type": "code",
      "source": [
        "numero_total_de_presta = int(input(\"Insira o número total de prestações: \"))\n",
        "numero_de_presta_pagas = int(input(\"Insira o número total de prestações pagas: \"))\n",
        "valor_de_presta = float(input(\"Insira o valor de cada prestação: \"))\n",
        "\n",
        "conta = valor_de_presta * numero_total_de_presta - numero_de_presta_pagas * valor_de_presta\n",
        "\n",
        "print(\"Seu saldo está em: \", conta)\n"
      ],
      "metadata": {
        "colab": {
          "base_uri": "https://localhost:8080/"
        },
        "id": "u0oq_UdzzorA",
        "outputId": "2138b52e-cf9f-4541-f698-7c0845afed32"
      },
      "execution_count": null,
      "outputs": [
        {
          "output_type": "stream",
          "name": "stdout",
          "text": [
            "Insira o número total de prestações: 10\n",
            "Insira o número total de prestações pagas: 5\n",
            "Insira o valor de cada prestação: 50.99\n",
            "Seu saldo está em:  254.95000000000002\n"
          ]
        }
      ]
    },
    {
      "cell_type": "markdown",
      "source": [
        "Exerc 5"
      ],
      "metadata": {
        "id": "wAlMp7Ch2CnE"
      }
    },
    {
      "cell_type": "code",
      "source": [
        "tempo = int(input(\"insira o tempo gasto na viagem: \"))\n",
        "velocidade = int(input(\"Insira a velocidade gasta na viagem: \"))\n",
        "\n",
        "distancia = tempo * velocidade\n",
        "\n",
        "litros_usados = distancia / 12\n",
        "\n",
        "print(\"A quantiade de litros de combustível gasto é de: \", litros_usados)"
      ],
      "metadata": {
        "colab": {
          "base_uri": "https://localhost:8080/"
        },
        "id": "oZoS8wNl2DvC",
        "outputId": "5135a368-3b4f-416b-afef-9eb5b1ef852d"
      },
      "execution_count": null,
      "outputs": [
        {
          "output_type": "stream",
          "name": "stdout",
          "text": [
            "insira o tempo gasto na viagem: 50\n",
            "Insira a velocidade gasta na viagem: 40\n",
            "A quantiade de litros de combustível gasto é de:  166.66666666666666\n"
          ]
        }
      ]
    },
    {
      "cell_type": "markdown",
      "source": [
        "Exercicios estruturas condicionais"
      ],
      "metadata": {
        "id": "oCxSXucyTci6"
      }
    },
    {
      "cell_type": "code",
      "source": [
        "print(\"Digite a nota m1: \")\n",
        "m1 = float(input())\n",
        "\n",
        "print(\"Digite a nota m2: \")\n",
        "m2 = float(input())\n",
        "\n",
        "print(\"Digite a nota m3: \")\n",
        "m3 = float(input())\n",
        "\n",
        "media = (m1 + m2 + m3)/ 3\n",
        "print(\"Média: \", media)\n",
        "\n",
        "if media >= 6:\n",
        "  print(\"Aluno aprovado\")\n",
        "\n",
        "elif media < 4:\n",
        "  print(\"Aluno reprovado\")\n",
        "\n",
        "elif media >= 4 and media < 6:\n",
        "  print(\"Aluno pegou exame\")\n",
        "  print(\"Digite a nota do exame: \")\n",
        "  exame = float(input())\n",
        "  if exame >= 6:\n",
        "    print(\"Aluno aprovado no exame\")\n",
        "\n",
        "else:\n",
        "  print(\"Aluno reprovado no exame\")"
      ],
      "metadata": {
        "colab": {
          "base_uri": "https://localhost:8080/"
        },
        "id": "y2RVkdyuTe8e",
        "outputId": "d938bcaf-75a6-47e1-ad7c-5c260fcc144b"
      },
      "execution_count": null,
      "outputs": [
        {
          "output_type": "stream",
          "name": "stdout",
          "text": [
            "Digite a nota m1: \n",
            "3\n",
            "Digite a nota m2: \n",
            "3\n",
            "Digite a nota m3: \n",
            "3\n",
            "Média:  3.0\n",
            "Aluno reprovado\n"
          ]
        }
      ]
    },
    {
      "cell_type": "markdown",
      "source": [
        "Exercicio 1"
      ],
      "metadata": {
        "id": "h-Kpy-DpheD_"
      }
    },
    {
      "cell_type": "code",
      "source": [
        "num1 = int(input(\"Insira o número: \"))\n",
        "\n",
        "if num1 > 1:\n",
        "  print (\"o numero é positivo\")\n",
        "\n",
        "else:\n",
        "  print(\"O número é negativo\")"
      ],
      "metadata": {
        "colab": {
          "base_uri": "https://localhost:8080/"
        },
        "id": "sShbMSqDhfrx",
        "outputId": "c7632dd9-2944-4a65-bdc5-60280aa9aab9"
      },
      "execution_count": null,
      "outputs": [
        {
          "output_type": "stream",
          "name": "stdout",
          "text": [
            "Insira o número: 0\n",
            "O número é negativo\n"
          ]
        }
      ]
    },
    {
      "cell_type": "markdown",
      "source": [
        "Exercicio 2"
      ],
      "metadata": {
        "id": "zn6R58rUiadv"
      }
    },
    {
      "cell_type": "code",
      "source": [
        "num1 = int(input(\"Insira o primeiro numero: \"))\n",
        "num2 = int(input(\"Insira o segundo número: \"))\n",
        "\n",
        "if num1 > num2:\n",
        "  print(\"o primeiro número é maior\")\n",
        "\n",
        "elif num1 < num2:\n",
        "  print(\"o segundo número é maior\")\n",
        "\n",
        "elif num1 == num2:\n",
        "    print(\"os números são iguais\")\n",
        "\n"
      ],
      "metadata": {
        "colab": {
          "base_uri": "https://localhost:8080/"
        },
        "id": "eHzRjSI9iblo",
        "outputId": "f60f6831-2a65-450c-c978-694deb811b3c"
      },
      "execution_count": null,
      "outputs": [
        {
          "output_type": "stream",
          "name": "stdout",
          "text": [
            "Insira o primeiro numero: 5\n",
            "Insira o segundo número: 5\n",
            "os números são iguais\n"
          ]
        }
      ]
    },
    {
      "cell_type": "markdown",
      "source": [
        "Exercicio 3"
      ],
      "metadata": {
        "id": "TCDgoL1_ji17"
      }
    },
    {
      "cell_type": "code",
      "source": [
        "idade = int(input(\"Insira a idade: \"))\n",
        "\n",
        "if idade <= 12:\n",
        "  print(\"idade de criança\")\n",
        "\n",
        "elif idade > 12 and idade <= 17:\n",
        "  print (\"idade de adolescente\")\n",
        "elif idade >= 18:\n",
        "  print(\"Idade de adulto\")\n"
      ],
      "metadata": {
        "colab": {
          "base_uri": "https://localhost:8080/"
        },
        "id": "j0LX7GhUjkfr",
        "outputId": "3af88ef2-69f4-433d-fb1a-0cd93d81e171"
      },
      "execution_count": null,
      "outputs": [
        {
          "output_type": "stream",
          "name": "stdout",
          "text": [
            "Insira a idade: 18\n",
            "Idade de adulto\n"
          ]
        }
      ]
    },
    {
      "cell_type": "markdown",
      "source": [
        "Exercicio 4"
      ],
      "metadata": {
        "id": "32d4z7nXk0rg"
      }
    },
    {
      "cell_type": "code",
      "source": [
        "print('Digite o primeiro valor: ')\n",
        "valor1 = float(input())\n",
        "print('Digite o segundo valor: ')\n",
        "valor2 = float(input())\n",
        "print('Digite a operação: ')\n",
        "operacao = input()\n",
        "\n",
        "resultado = 0\n",
        "if operacao == '+':\n",
        "  resultado = valor1 + valor2\n",
        "elif  operacao == '-':\n",
        "  resultado = valor1 - valor2\n",
        "elif operacao == '*':\n",
        "  resultado = valor1 * valor2\n",
        "elif operacao == '/':\n",
        "  resultado = valor1 / valor2\n",
        "else:\n",
        "  print('Operação inválida')\n",
        "\n",
        "print('Resultado: ', resultado)"
      ],
      "metadata": {
        "id": "hd7EyDs7k2BA",
        "colab": {
          "base_uri": "https://localhost:8080/"
        },
        "outputId": "d9594c5d-a7bc-4340-8f9a-6f9290bf250b"
      },
      "execution_count": null,
      "outputs": [
        {
          "output_type": "stream",
          "name": "stdout",
          "text": [
            "Digite o primeiro valor: \n",
            "15\n",
            "Digite o segundo valor: \n",
            "28\n",
            "Digite a operação: \n",
            "-\n",
            "Resultado:  -13.0\n"
          ]
        }
      ]
    },
    {
      "cell_type": "markdown",
      "source": [
        "Exercicio 5"
      ],
      "metadata": {
        "id": "DGd_STkJ0keQ"
      }
    },
    {
      "cell_type": "code",
      "source": [
        "valor = int(input(\"Insira o valor: \"))\n",
        "\n",
        "if (valor >= 1 and  valor <= 9):\n",
        "  print(\"O valor está na faixa permitida.\")\n",
        "\n",
        "elif (valor < 1 and valor > 9):\n",
        "  print(\"O valor está fora da faixa permitida\")"
      ],
      "metadata": {
        "colab": {
          "base_uri": "https://localhost:8080/"
        },
        "id": "1OhsWdtg0mTo",
        "outputId": "bb988dc3-0bf8-472e-916d-20f93f0bc9b8"
      },
      "execution_count": null,
      "outputs": [
        {
          "name": "stdout",
          "output_type": "stream",
          "text": [
            "Insira o valor: 12\n"
          ]
        }
      ]
    },
    {
      "cell_type": "markdown",
      "source": [
        "Exercicios python.zumbi\n"
      ],
      "metadata": {
        "id": "YhbjZqTmgz_X"
      }
    },
    {
      "cell_type": "code",
      "source": [
        "valor1 = int(input(\"Insira o primeiro número: \"))\n",
        "valor2 = int(input(\"Insira o segundo número: \"))\n",
        "\n",
        "resultado = valor1 + valor2\n",
        "print (resultado)"
      ],
      "metadata": {
        "colab": {
          "base_uri": "https://localhost:8080/"
        },
        "id": "Q4uyOXTFg19A",
        "outputId": "9b39573a-837d-4e27-c734-8e03827d5f41"
      },
      "execution_count": null,
      "outputs": [
        {
          "output_type": "stream",
          "name": "stdout",
          "text": [
            "Insira o primeiro número: 34\n",
            "Insira o segundo número: 56\n",
            "90\n"
          ]
        }
      ]
    },
    {
      "cell_type": "code",
      "source": [
        "comprimento = float(input(\"Insira o valor do comprimento: \"))\n",
        "\n",
        "resultado = comprimento/1000\n",
        "print(resultado)"
      ],
      "metadata": {
        "colab": {
          "base_uri": "https://localhost:8080/"
        },
        "id": "flZJN7Hwhpc6",
        "outputId": "1c2bb2de-6ec0-41c9-8aa6-673112cb974f"
      },
      "execution_count": null,
      "outputs": [
        {
          "output_type": "stream",
          "name": "stdout",
          "text": [
            "Insira o valor do comprimento: 45\n",
            "0.045\n"
          ]
        }
      ]
    },
    {
      "cell_type": "code",
      "source": [
        "dias = int(input(\"Dias: \"))\n",
        "horas = int(input(\"Horas: \"))\n",
        "minutos = int(input(\"Minutos: \"))\n",
        "segundos = int(input(\"Segundos: \"))\n",
        "\n",
        "total_em_segundos = dias * 24 * 3600 + horas * 3600 + minutos * 60 + segundos\n",
        "print(\"Convertido em segundos é igual a %10d segundos.\" % total_em_segundos)"
      ],
      "metadata": {
        "colab": {
          "base_uri": "https://localhost:8080/"
        },
        "id": "x2jFFmjIiyot",
        "outputId": "bfa05c3e-f2b5-42a4-daa6-8d227ebdd7f0"
      },
      "execution_count": null,
      "outputs": [
        {
          "output_type": "stream",
          "name": "stdout",
          "text": [
            "Dias: 34\n",
            "Horas: 90\n",
            "Minutos: 78\n",
            "Segundos: 678\n",
            "Convertido em segundos é igual a    3266958 segundos.\n"
          ]
        }
      ]
    },
    {
      "cell_type": "code",
      "source": [
        "i = 1\n",
        "\n",
        "while i < 10:\n",
        "  print(i)\n",
        "  i += 1\n",
        "\n",
        "\n",
        "print(\"Terminou\")\n",
        "print(i)\n"
      ],
      "metadata": {
        "colab": {
          "base_uri": "https://localhost:8080/"
        },
        "id": "m4sQxsam4Vgk",
        "outputId": "c381b352-2abb-443e-efe8-20b0d33ee134"
      },
      "execution_count": null,
      "outputs": [
        {
          "output_type": "stream",
          "name": "stdout",
          "text": [
            "1\n",
            "2\n",
            "3\n",
            "4\n",
            "5\n",
            "6\n",
            "7\n",
            "8\n",
            "9\n",
            "Terminou\n",
            "10\n"
          ]
        }
      ]
    },
    {
      "cell_type": "code",
      "source": [
        "criancas = [\"davi\", \"manuela\", \"larissa\"]\n",
        "\n",
        "for exemplo in criancas:\n",
        "  print(exemplo)"
      ],
      "metadata": {
        "colab": {
          "base_uri": "https://localhost:8080/"
        },
        "id": "Mm5leCG01Hw-",
        "outputId": "e4acdc37-7e94-4bc3-b07a-d7c938fefcbf"
      },
      "execution_count": null,
      "outputs": [
        {
          "output_type": "stream",
          "name": "stdout",
          "text": [
            "davi\n",
            "manuela\n",
            "larissa\n"
          ]
        }
      ]
    },
    {
      "cell_type": "code",
      "source": [
        "matrix_numeros = [\n",
        "    [1,2,3],\n",
        "    [4,5,6],\n",
        "    [7,8,9],\n",
        "    [0],\n",
        "]\n",
        "\n",
        "for linha in matrix_numeros:\n",
        "  print(\"----\")\n",
        "  for coluna in linha:\n",
        "    print(coluna)"
      ],
      "metadata": {
        "colab": {
          "base_uri": "https://localhost:8080/"
        },
        "id": "uSaG7tD2kb20",
        "outputId": "6833a542-68fe-48b0-b4c7-46e877cbb22b"
      },
      "execution_count": null,
      "outputs": [
        {
          "output_type": "stream",
          "name": "stdout",
          "text": [
            "----\n",
            "1\n",
            "2\n",
            "3\n",
            "----\n",
            "4\n",
            "5\n",
            "6\n",
            "----\n",
            "7\n",
            "8\n",
            "9\n",
            "----\n",
            "0\n"
          ]
        }
      ]
    },
    {
      "cell_type": "markdown",
      "source": [
        "exer. contador"
      ],
      "metadata": {
        "id": "Lf-KN-TzFgFI"
      }
    },
    {
      "cell_type": "code",
      "source": [
        "contador = 15\n",
        "\n",
        "\n",
        "while contador <=200:\n",
        "  quadrado = contador * contador\n",
        "  print(\"\\n\", quadrado)\n",
        "  contador = contador + 1"
      ],
      "metadata": {
        "colab": {
          "base_uri": "https://localhost:8080/"
        },
        "id": "W2eczByKFi25",
        "outputId": "200ee191-acea-4d15-a325-e6a144c4b5e4"
      },
      "execution_count": null,
      "outputs": [
        {
          "output_type": "stream",
          "name": "stdout",
          "text": [
            "\n",
            " 225\n",
            "\n",
            " 256\n",
            "\n",
            " 289\n",
            "\n",
            " 324\n",
            "\n",
            " 361\n",
            "\n",
            " 400\n",
            "\n",
            " 441\n",
            "\n",
            " 484\n",
            "\n",
            " 529\n",
            "\n",
            " 576\n",
            "\n",
            " 625\n",
            "\n",
            " 676\n",
            "\n",
            " 729\n",
            "\n",
            " 784\n",
            "\n",
            " 841\n",
            "\n",
            " 900\n",
            "\n",
            " 961\n",
            "\n",
            " 1024\n",
            "\n",
            " 1089\n",
            "\n",
            " 1156\n",
            "\n",
            " 1225\n",
            "\n",
            " 1296\n",
            "\n",
            " 1369\n",
            "\n",
            " 1444\n",
            "\n",
            " 1521\n",
            "\n",
            " 1600\n",
            "\n",
            " 1681\n",
            "\n",
            " 1764\n",
            "\n",
            " 1849\n",
            "\n",
            " 1936\n",
            "\n",
            " 2025\n",
            "\n",
            " 2116\n",
            "\n",
            " 2209\n",
            "\n",
            " 2304\n",
            "\n",
            " 2401\n",
            "\n",
            " 2500\n",
            "\n",
            " 2601\n",
            "\n",
            " 2704\n",
            "\n",
            " 2809\n",
            "\n",
            " 2916\n",
            "\n",
            " 3025\n",
            "\n",
            " 3136\n",
            "\n",
            " 3249\n",
            "\n",
            " 3364\n",
            "\n",
            " 3481\n",
            "\n",
            " 3600\n",
            "\n",
            " 3721\n",
            "\n",
            " 3844\n",
            "\n",
            " 3969\n",
            "\n",
            " 4096\n",
            "\n",
            " 4225\n",
            "\n",
            " 4356\n",
            "\n",
            " 4489\n",
            "\n",
            " 4624\n",
            "\n",
            " 4761\n",
            "\n",
            " 4900\n",
            "\n",
            " 5041\n",
            "\n",
            " 5184\n",
            "\n",
            " 5329\n",
            "\n",
            " 5476\n",
            "\n",
            " 5625\n",
            "\n",
            " 5776\n",
            "\n",
            " 5929\n",
            "\n",
            " 6084\n",
            "\n",
            " 6241\n",
            "\n",
            " 6400\n",
            "\n",
            " 6561\n",
            "\n",
            " 6724\n",
            "\n",
            " 6889\n",
            "\n",
            " 7056\n",
            "\n",
            " 7225\n",
            "\n",
            " 7396\n",
            "\n",
            " 7569\n",
            "\n",
            " 7744\n",
            "\n",
            " 7921\n",
            "\n",
            " 8100\n",
            "\n",
            " 8281\n",
            "\n",
            " 8464\n",
            "\n",
            " 8649\n",
            "\n",
            " 8836\n",
            "\n",
            " 9025\n",
            "\n",
            " 9216\n",
            "\n",
            " 9409\n",
            "\n",
            " 9604\n",
            "\n",
            " 9801\n",
            "\n",
            " 10000\n",
            "\n",
            " 10201\n",
            "\n",
            " 10404\n",
            "\n",
            " 10609\n",
            "\n",
            " 10816\n",
            "\n",
            " 11025\n",
            "\n",
            " 11236\n",
            "\n",
            " 11449\n",
            "\n",
            " 11664\n",
            "\n",
            " 11881\n",
            "\n",
            " 12100\n",
            "\n",
            " 12321\n",
            "\n",
            " 12544\n",
            "\n",
            " 12769\n",
            "\n",
            " 12996\n",
            "\n",
            " 13225\n",
            "\n",
            " 13456\n",
            "\n",
            " 13689\n",
            "\n",
            " 13924\n",
            "\n",
            " 14161\n",
            "\n",
            " 14400\n",
            "\n",
            " 14641\n",
            "\n",
            " 14884\n",
            "\n",
            " 15129\n",
            "\n",
            " 15376\n",
            "\n",
            " 15625\n",
            "\n",
            " 15876\n",
            "\n",
            " 16129\n",
            "\n",
            " 16384\n",
            "\n",
            " 16641\n",
            "\n",
            " 16900\n",
            "\n",
            " 17161\n",
            "\n",
            " 17424\n",
            "\n",
            " 17689\n",
            "\n",
            " 17956\n",
            "\n",
            " 18225\n",
            "\n",
            " 18496\n",
            "\n",
            " 18769\n",
            "\n",
            " 19044\n",
            "\n",
            " 19321\n",
            "\n",
            " 19600\n",
            "\n",
            " 19881\n",
            "\n",
            " 20164\n",
            "\n",
            " 20449\n",
            "\n",
            " 20736\n",
            "\n",
            " 21025\n",
            "\n",
            " 21316\n",
            "\n",
            " 21609\n",
            "\n",
            " 21904\n",
            "\n",
            " 22201\n",
            "\n",
            " 22500\n",
            "\n",
            " 22801\n",
            "\n",
            " 23104\n",
            "\n",
            " 23409\n",
            "\n",
            " 23716\n",
            "\n",
            " 24025\n",
            "\n",
            " 24336\n",
            "\n",
            " 24649\n",
            "\n",
            " 24964\n",
            "\n",
            " 25281\n",
            "\n",
            " 25600\n",
            "\n",
            " 25921\n",
            "\n",
            " 26244\n",
            "\n",
            " 26569\n",
            "\n",
            " 26896\n",
            "\n",
            " 27225\n",
            "\n",
            " 27556\n",
            "\n",
            " 27889\n",
            "\n",
            " 28224\n",
            "\n",
            " 28561\n",
            "\n",
            " 28900\n",
            "\n",
            " 29241\n",
            "\n",
            " 29584\n",
            "\n",
            " 29929\n",
            "\n",
            " 30276\n",
            "\n",
            " 30625\n",
            "\n",
            " 30976\n",
            "\n",
            " 31329\n",
            "\n",
            " 31684\n",
            "\n",
            " 32041\n",
            "\n",
            " 32400\n",
            "\n",
            " 32761\n",
            "\n",
            " 33124\n",
            "\n",
            " 33489\n",
            "\n",
            " 33856\n",
            "\n",
            " 34225\n",
            "\n",
            " 34596\n",
            "\n",
            " 34969\n",
            "\n",
            " 35344\n",
            "\n",
            " 35721\n",
            "\n",
            " 36100\n",
            "\n",
            " 36481\n",
            "\n",
            " 36864\n",
            "\n",
            " 37249\n",
            "\n",
            " 37636\n",
            "\n",
            " 38025\n",
            "\n",
            " 38416\n",
            "\n",
            " 38809\n",
            "\n",
            " 39204\n",
            "\n",
            " 39601\n",
            "\n",
            " 40000\n"
          ]
        }
      ]
    },
    {
      "cell_type": "markdown",
      "source": [
        "Acumulador"
      ],
      "metadata": {
        "id": "KFC9QAcyTfsi"
      }
    },
    {
      "cell_type": "code",
      "source": [
        "contador = 1\n",
        "soma = 0\n",
        "\n",
        "while (contador <= 100):\n",
        "  soma = soma + contador\n",
        "  print(\"\\n\", soma)\n",
        "\n",
        "  contador = contador + 1\n",
        "\n",
        "print(\"Soma dos 100 primeiros números: \", soma)"
      ],
      "metadata": {
        "colab": {
          "base_uri": "https://localhost:8080/"
        },
        "id": "InEeDOjoTgyN",
        "outputId": "e23a6a56-649f-4030-ac3e-e2af0b0bc98c"
      },
      "execution_count": null,
      "outputs": [
        {
          "output_type": "stream",
          "name": "stdout",
          "text": [
            "\n",
            " 1\n",
            "\n",
            " 3\n",
            "\n",
            " 6\n",
            "\n",
            " 10\n",
            "\n",
            " 15\n",
            "\n",
            " 21\n",
            "\n",
            " 28\n",
            "\n",
            " 36\n",
            "\n",
            " 45\n",
            "\n",
            " 55\n",
            "\n",
            " 66\n",
            "\n",
            " 78\n",
            "\n",
            " 91\n",
            "\n",
            " 105\n",
            "\n",
            " 120\n",
            "\n",
            " 136\n",
            "\n",
            " 153\n",
            "\n",
            " 171\n",
            "\n",
            " 190\n",
            "\n",
            " 210\n",
            "\n",
            " 231\n",
            "\n",
            " 253\n",
            "\n",
            " 276\n",
            "\n",
            " 300\n",
            "\n",
            " 325\n",
            "\n",
            " 351\n",
            "\n",
            " 378\n",
            "\n",
            " 406\n",
            "\n",
            " 435\n",
            "\n",
            " 465\n",
            "\n",
            " 496\n",
            "\n",
            " 528\n",
            "\n",
            " 561\n",
            "\n",
            " 595\n",
            "\n",
            " 630\n",
            "\n",
            " 666\n",
            "\n",
            " 703\n",
            "\n",
            " 741\n",
            "\n",
            " 780\n",
            "\n",
            " 820\n",
            "\n",
            " 861\n",
            "\n",
            " 903\n",
            "\n",
            " 946\n",
            "\n",
            " 990\n",
            "\n",
            " 1035\n",
            "\n",
            " 1081\n",
            "\n",
            " 1128\n",
            "\n",
            " 1176\n",
            "\n",
            " 1225\n",
            "\n",
            " 1275\n",
            "\n",
            " 1326\n",
            "\n",
            " 1378\n",
            "\n",
            " 1431\n",
            "\n",
            " 1485\n",
            "\n",
            " 1540\n",
            "\n",
            " 1596\n",
            "\n",
            " 1653\n",
            "\n",
            " 1711\n",
            "\n",
            " 1770\n",
            "\n",
            " 1830\n",
            "\n",
            " 1891\n",
            "\n",
            " 1953\n",
            "\n",
            " 2016\n",
            "\n",
            " 2080\n",
            "\n",
            " 2145\n",
            "\n",
            " 2211\n",
            "\n",
            " 2278\n",
            "\n",
            " 2346\n",
            "\n",
            " 2415\n",
            "\n",
            " 2485\n",
            "\n",
            " 2556\n",
            "\n",
            " 2628\n",
            "\n",
            " 2701\n",
            "\n",
            " 2775\n",
            "\n",
            " 2850\n",
            "\n",
            " 2926\n",
            "\n",
            " 3003\n",
            "\n",
            " 3081\n",
            "\n",
            " 3160\n",
            "\n",
            " 3240\n",
            "\n",
            " 3321\n",
            "\n",
            " 3403\n",
            "\n",
            " 3486\n",
            "\n",
            " 3570\n",
            "\n",
            " 3655\n",
            "\n",
            " 3741\n",
            "\n",
            " 3828\n",
            "\n",
            " 3916\n",
            "\n",
            " 4005\n",
            "\n",
            " 4095\n",
            "\n",
            " 4186\n",
            "\n",
            " 4278\n",
            "\n",
            " 4371\n",
            "\n",
            " 4465\n",
            "\n",
            " 4560\n",
            "\n",
            " 4656\n",
            "\n",
            " 4753\n",
            "\n",
            " 4851\n",
            "\n",
            " 4950\n",
            "\n",
            " 5050\n",
            "Soma dos 100 primeiros números:  5050\n"
          ]
        }
      ]
    },
    {
      "cell_type": "code",
      "source": [
        "contador = 1\n",
        "negativos = 0\n",
        "\n",
        "while contador <= 5:\n",
        "  print(\"Digite um valor: \")\n",
        "  a = float(input())\n",
        "  if a < 0:\n",
        "    negativos += 1\n",
        "  contador += 1\n",
        "\n",
        "\n",
        "print(\"quantidade de números negativos: \", negativos)"
      ],
      "metadata": {
        "colab": {
          "base_uri": "https://localhost:8080/"
        },
        "id": "f-45odTSkzy0",
        "outputId": "f6aecb8f-f541-47fc-f71c-1a62eb77e7f4"
      },
      "execution_count": null,
      "outputs": [
        {
          "output_type": "stream",
          "name": "stdout",
          "text": [
            "Digite um valor: \n",
            "45\n",
            "Digite um valor: \n",
            "64\n",
            "Digite um valor: \n",
            "89\n",
            "Digite um valor: \n",
            "456\n",
            "Digite um valor: \n",
            "46\n",
            "quantidade de números negativos:  0\n"
          ]
        }
      ]
    },
    {
      "cell_type": "markdown",
      "source": [
        "Contador 2"
      ],
      "metadata": {
        "id": "A5Kdj4I2izZi"
      }
    },
    {
      "cell_type": "code",
      "source": [
        "contador = 1\n",
        "negativos = 0\n",
        "\n",
        "while contador <= 5:\n",
        "  A = float(input(\"Digite o valor de A: \"))\n",
        "  if A < 0:\n",
        "    negativos = negativos + 1\n",
        " contador +=1\n",
        "\n",
        "print(\"Número de valores negativos: \", negativos)"
      ],
      "metadata": {
        "colab": {
          "base_uri": "https://localhost:8080/",
          "height": 106
        },
        "id": "gOrPvzA-i0d2",
        "outputId": "4415af9e-1716-4a41-f4fc-7c67ec901161"
      },
      "execution_count": null,
      "outputs": [
        {
          "output_type": "error",
          "ename": "IndentationError",
          "evalue": "unindent does not match any outer indentation level (<tokenize>, line 8)",
          "traceback": [
            "\u001b[0;36m  File \u001b[0;32m\"<tokenize>\"\u001b[0;36m, line \u001b[0;32m8\u001b[0m\n\u001b[0;31m    contador +=1\u001b[0m\n\u001b[0m    ^\u001b[0m\n\u001b[0;31mIndentationError\u001b[0m\u001b[0;31m:\u001b[0m unindent does not match any outer indentation level\n"
          ]
        }
      ]
    },
    {
      "cell_type": "markdown",
      "source": [
        "validador"
      ],
      "metadata": {
        "id": "REM4nPbK9Gof"
      }
    },
    {
      "cell_type": "code",
      "source": [
        "nota1 = 12\n",
        "\n",
        "while nota1 > 10 or nota1 < 0:\n",
        "  print(\"Digite a primeira nota: \")\n",
        "  nota1 = float(input())\n",
        "\n",
        "nota2 = -1\n",
        "\n",
        "while nota2 > 10 or nota2 < 0:\n",
        "  print(\"Digite a nota2: \")\n",
        "  nota2 = float(input())\n",
        "\n",
        "media = (nota1 + nota2)/ 2\n",
        "\n",
        "print(\"Média: \", media)"
      ],
      "metadata": {
        "colab": {
          "base_uri": "https://localhost:8080/"
        },
        "id": "EUtMOOssAEde",
        "outputId": "eeadc91d-4360-4dcf-eca6-086f68275984"
      },
      "execution_count": null,
      "outputs": [
        {
          "output_type": "stream",
          "name": "stdout",
          "text": [
            "Digite a primeira nota: \n",
            "-3\n",
            "Digite a primeira nota: \n",
            "15\n",
            "Digite a primeira nota: \n",
            "9\n",
            "Digite a nota2: \n",
            "-2\n",
            "Digite a nota2: \n",
            "10\n",
            "Média:  9.5\n"
          ]
        }
      ]
    },
    {
      "cell_type": "code",
      "source": [
        "\n",
        "nota1 = -3\n",
        "nota2 = 12\n",
        "\n",
        "while (nota1 > 10 or nota1 < 0):\n",
        "  int(nota1= -1.0(input(\"Digite a nota1: \")))\n",
        "\n",
        "while (nota2 > 10 or nota < 0):\n",
        "  nota2== input(\"Digite a nota2: \")\n",
        "\n",
        "media = (nota1 + nota2) / 2\n",
        "print(\"média: \", media)"
      ],
      "metadata": {
        "colab": {
          "base_uri": "https://localhost:8080/",
          "height": 426
        },
        "id": "xWtICdL29K-c",
        "outputId": "4178721c-2198-44c2-821f-2cf897e2d108"
      },
      "execution_count": null,
      "outputs": [
        {
          "output_type": "stream",
          "name": "stderr",
          "text": [
            "<>:5: SyntaxWarning: 'float' object is not callable; perhaps you missed a comma?\n",
            "<>:5: SyntaxWarning: 'float' object is not callable; perhaps you missed a comma?\n",
            "<ipython-input-9-b39f6c7587ac>:5: SyntaxWarning: 'float' object is not callable; perhaps you missed a comma?\n",
            "  int(nota1= -1.0(input(\"Digite a nota1: \")))\n"
          ]
        },
        {
          "output_type": "error",
          "ename": "KeyboardInterrupt",
          "evalue": "Interrupted by user",
          "traceback": [
            "\u001b[0;31m---------------------------------------------------------------------------\u001b[0m",
            "\u001b[0;31mKeyboardInterrupt\u001b[0m                         Traceback (most recent call last)",
            "\u001b[0;32m<ipython-input-9-b39f6c7587ac>\u001b[0m in \u001b[0;36m<cell line: 0>\u001b[0;34m()\u001b[0m\n\u001b[1;32m      3\u001b[0m \u001b[0;34m\u001b[0m\u001b[0m\n\u001b[1;32m      4\u001b[0m \u001b[0;32mwhile\u001b[0m \u001b[0;34m(\u001b[0m\u001b[0mnota1\u001b[0m \u001b[0;34m>\u001b[0m \u001b[0;36m10\u001b[0m \u001b[0;32mor\u001b[0m \u001b[0mnota1\u001b[0m \u001b[0;34m<\u001b[0m \u001b[0;36m0\u001b[0m\u001b[0;34m)\u001b[0m\u001b[0;34m:\u001b[0m\u001b[0;34m\u001b[0m\u001b[0;34m\u001b[0m\u001b[0m\n\u001b[0;32m----> 5\u001b[0;31m   \u001b[0mint\u001b[0m\u001b[0;34m(\u001b[0m\u001b[0mnota1\u001b[0m\u001b[0;34m=\u001b[0m \u001b[0;34m-\u001b[0m\u001b[0;36m1.0\u001b[0m\u001b[0;34m(\u001b[0m\u001b[0minput\u001b[0m\u001b[0;34m(\u001b[0m\u001b[0;34m\"Digite a nota1: \"\u001b[0m\u001b[0;34m)\u001b[0m\u001b[0;34m)\u001b[0m\u001b[0;34m)\u001b[0m\u001b[0;34m\u001b[0m\u001b[0;34m\u001b[0m\u001b[0m\n\u001b[0m\u001b[1;32m      6\u001b[0m \u001b[0;34m\u001b[0m\u001b[0m\n\u001b[1;32m      7\u001b[0m \u001b[0;32mwhile\u001b[0m \u001b[0;34m(\u001b[0m\u001b[0mnota2\u001b[0m \u001b[0;34m>\u001b[0m \u001b[0;36m10\u001b[0m \u001b[0;32mor\u001b[0m \u001b[0mnota\u001b[0m \u001b[0;34m<\u001b[0m \u001b[0;36m0\u001b[0m\u001b[0;34m)\u001b[0m\u001b[0;34m:\u001b[0m\u001b[0;34m\u001b[0m\u001b[0;34m\u001b[0m\u001b[0m\n",
            "\u001b[0;32m/usr/local/lib/python3.11/dist-packages/ipykernel/kernelbase.py\u001b[0m in \u001b[0;36mraw_input\u001b[0;34m(self, prompt)\u001b[0m\n\u001b[1;32m    849\u001b[0m                 \u001b[0;34m\"raw_input was called, but this frontend does not support input requests.\"\u001b[0m\u001b[0;34m\u001b[0m\u001b[0;34m\u001b[0m\u001b[0m\n\u001b[1;32m    850\u001b[0m             )\n\u001b[0;32m--> 851\u001b[0;31m         return self._input_request(str(prompt),\n\u001b[0m\u001b[1;32m    852\u001b[0m             \u001b[0mself\u001b[0m\u001b[0;34m.\u001b[0m\u001b[0m_parent_ident\u001b[0m\u001b[0;34m,\u001b[0m\u001b[0;34m\u001b[0m\u001b[0;34m\u001b[0m\u001b[0m\n\u001b[1;32m    853\u001b[0m             \u001b[0mself\u001b[0m\u001b[0;34m.\u001b[0m\u001b[0m_parent_header\u001b[0m\u001b[0;34m,\u001b[0m\u001b[0;34m\u001b[0m\u001b[0;34m\u001b[0m\u001b[0m\n",
            "\u001b[0;32m/usr/local/lib/python3.11/dist-packages/ipykernel/kernelbase.py\u001b[0m in \u001b[0;36m_input_request\u001b[0;34m(self, prompt, ident, parent, password)\u001b[0m\n\u001b[1;32m    893\u001b[0m             \u001b[0;32mexcept\u001b[0m \u001b[0mKeyboardInterrupt\u001b[0m\u001b[0;34m:\u001b[0m\u001b[0;34m\u001b[0m\u001b[0;34m\u001b[0m\u001b[0m\n\u001b[1;32m    894\u001b[0m                 \u001b[0;31m# re-raise KeyboardInterrupt, to truncate traceback\u001b[0m\u001b[0;34m\u001b[0m\u001b[0;34m\u001b[0m\u001b[0m\n\u001b[0;32m--> 895\u001b[0;31m                 \u001b[0;32mraise\u001b[0m \u001b[0mKeyboardInterrupt\u001b[0m\u001b[0;34m(\u001b[0m\u001b[0;34m\"Interrupted by user\"\u001b[0m\u001b[0;34m)\u001b[0m \u001b[0;32mfrom\u001b[0m \u001b[0;32mNone\u001b[0m\u001b[0;34m\u001b[0m\u001b[0;34m\u001b[0m\u001b[0m\n\u001b[0m\u001b[1;32m    896\u001b[0m             \u001b[0;32mexcept\u001b[0m \u001b[0mException\u001b[0m \u001b[0;32mas\u001b[0m \u001b[0me\u001b[0m\u001b[0;34m:\u001b[0m\u001b[0;34m\u001b[0m\u001b[0;34m\u001b[0m\u001b[0m\n\u001b[1;32m    897\u001b[0m                 \u001b[0mself\u001b[0m\u001b[0;34m.\u001b[0m\u001b[0mlog\u001b[0m\u001b[0;34m.\u001b[0m\u001b[0mwarning\u001b[0m\u001b[0;34m(\u001b[0m\u001b[0;34m\"Invalid Message:\"\u001b[0m\u001b[0;34m,\u001b[0m \u001b[0mexc_info\u001b[0m\u001b[0;34m=\u001b[0m\u001b[0;32mTrue\u001b[0m\u001b[0;34m)\u001b[0m\u001b[0;34m\u001b[0m\u001b[0;34m\u001b[0m\u001b[0m\n",
            "\u001b[0;31mKeyboardInterrupt\u001b[0m: Interrupted by user"
          ]
        }
      ]
    },
    {
      "cell_type": "markdown",
      "source": [
        "usuário"
      ],
      "metadata": {
        "id": "lspRm99SE3gB"
      }
    },
    {
      "cell_type": "code",
      "source": [
        "continua = 's'\n",
        "while continua == 's':\n",
        "\n",
        "  print(\"Digite o comprimento: \")\n",
        "  comprimento = float(input())\n",
        "  print(\"Digite a largura: \")\n",
        "  largura = float(input())\n",
        "  print(\"Digite a altura: \")\n",
        "  altura = float(input())\n",
        "\n",
        "\n",
        "  volume = comprimento * largura * altura\n",
        "\n",
        "  print(\"Volume: \", volume)\n",
        "\n",
        "  print(\"Deseja ler mais valores? (s/n)): \")\n",
        "  continua = input()"
      ],
      "metadata": {
        "colab": {
          "base_uri": "https://localhost:8080/"
        },
        "id": "HR1wFPRyCGxw",
        "outputId": "273d3a0c-bb1a-4ff0-8e69-641f1c025e77"
      },
      "execution_count": null,
      "outputs": [
        {
          "name": "stdout",
          "output_type": "stream",
          "text": [
            "Digite o comprimento: \n",
            "5\n",
            "Digite a largura: \n",
            "5\n",
            "Digite a altura: \n",
            "5\n",
            "Volume:  125.0\n",
            "Deseja ler mais valores? (s/n)): \n",
            "s\n",
            "Digite o comprimento: \n",
            "5\n",
            "Digite a largura: \n",
            "2\n",
            "Digite a altura: \n",
            "4\n",
            "Volume:  40.0\n",
            "Deseja ler mais valores? (s/n)): \n",
            "n\n"
          ]
        }
      ]
    },
    {
      "cell_type": "code",
      "source": [
        "continua = \"s\"\n",
        "\n",
        "while (continua == \"s\"):\n",
        "  comprimento = input(\"Insira o valor do comprimento: \")\n",
        "  largura = input(\"Digite o valor da largura: \")\n",
        "  altura = input(\"Digite o valor da altura: \")\n",
        "\n",
        "volume = comprimento * largura * altura\n",
        "\n",
        "print(\"O valor do volume é: \", volume)\n",
        "\n",
        "input(\"\\nDeseja continuar a leitura? \")\n",
        "\n"
      ],
      "metadata": {
        "colab": {
          "base_uri": "https://localhost:8080/",
          "height": 426
        },
        "id": "EtIDgzwjE4in",
        "outputId": "743b4a4f-6d25-4eb1-da1b-3f5110330ab8"
      },
      "execution_count": null,
      "outputs": [
        {
          "name": "stdout",
          "output_type": "stream",
          "text": [
            "Insira o valor do comprimento: 54\n",
            "Digite o valor da largura: 564\n",
            "Digite o valor da altura: 54\n",
            "Insira o valor do comprimento: 554\n"
          ]
        },
        {
          "output_type": "error",
          "ename": "KeyboardInterrupt",
          "evalue": "Interrupted by user",
          "traceback": [
            "\u001b[0;31m---------------------------------------------------------------------------\u001b[0m",
            "\u001b[0;31mKeyboardInterrupt\u001b[0m                         Traceback (most recent call last)",
            "\u001b[0;32m<ipython-input-7-6c1851a9136c>\u001b[0m in \u001b[0;36m<cell line: 0>\u001b[0;34m()\u001b[0m\n\u001b[1;32m      3\u001b[0m \u001b[0;32mwhile\u001b[0m \u001b[0;34m(\u001b[0m\u001b[0mcontinua\u001b[0m \u001b[0;34m==\u001b[0m \u001b[0;34m\"s\"\u001b[0m\u001b[0;34m)\u001b[0m\u001b[0;34m:\u001b[0m\u001b[0;34m\u001b[0m\u001b[0;34m\u001b[0m\u001b[0m\n\u001b[1;32m      4\u001b[0m   \u001b[0mcomprimento\u001b[0m \u001b[0;34m=\u001b[0m \u001b[0minput\u001b[0m\u001b[0;34m(\u001b[0m\u001b[0;34m\"Insira o valor do comprimento: \"\u001b[0m\u001b[0;34m)\u001b[0m\u001b[0;34m\u001b[0m\u001b[0;34m\u001b[0m\u001b[0m\n\u001b[0;32m----> 5\u001b[0;31m   \u001b[0mlargura\u001b[0m \u001b[0;34m=\u001b[0m \u001b[0minput\u001b[0m\u001b[0;34m(\u001b[0m\u001b[0;34m\"Digite o valor da largura: \"\u001b[0m\u001b[0;34m)\u001b[0m\u001b[0;34m\u001b[0m\u001b[0;34m\u001b[0m\u001b[0m\n\u001b[0m\u001b[1;32m      6\u001b[0m   \u001b[0maltura\u001b[0m \u001b[0;34m=\u001b[0m \u001b[0minput\u001b[0m\u001b[0;34m(\u001b[0m\u001b[0;34m\"Digite o valor da altura: \"\u001b[0m\u001b[0;34m)\u001b[0m\u001b[0;34m\u001b[0m\u001b[0;34m\u001b[0m\u001b[0m\n\u001b[1;32m      7\u001b[0m \u001b[0;34m\u001b[0m\u001b[0m\n",
            "\u001b[0;32m/usr/local/lib/python3.11/dist-packages/ipykernel/kernelbase.py\u001b[0m in \u001b[0;36mraw_input\u001b[0;34m(self, prompt)\u001b[0m\n\u001b[1;32m    849\u001b[0m                 \u001b[0;34m\"raw_input was called, but this frontend does not support input requests.\"\u001b[0m\u001b[0;34m\u001b[0m\u001b[0;34m\u001b[0m\u001b[0m\n\u001b[1;32m    850\u001b[0m             )\n\u001b[0;32m--> 851\u001b[0;31m         return self._input_request(str(prompt),\n\u001b[0m\u001b[1;32m    852\u001b[0m             \u001b[0mself\u001b[0m\u001b[0;34m.\u001b[0m\u001b[0m_parent_ident\u001b[0m\u001b[0;34m,\u001b[0m\u001b[0;34m\u001b[0m\u001b[0;34m\u001b[0m\u001b[0m\n\u001b[1;32m    853\u001b[0m             \u001b[0mself\u001b[0m\u001b[0;34m.\u001b[0m\u001b[0m_parent_header\u001b[0m\u001b[0;34m,\u001b[0m\u001b[0;34m\u001b[0m\u001b[0;34m\u001b[0m\u001b[0m\n",
            "\u001b[0;32m/usr/local/lib/python3.11/dist-packages/ipykernel/kernelbase.py\u001b[0m in \u001b[0;36m_input_request\u001b[0;34m(self, prompt, ident, parent, password)\u001b[0m\n\u001b[1;32m    893\u001b[0m             \u001b[0;32mexcept\u001b[0m \u001b[0mKeyboardInterrupt\u001b[0m\u001b[0;34m:\u001b[0m\u001b[0;34m\u001b[0m\u001b[0;34m\u001b[0m\u001b[0m\n\u001b[1;32m    894\u001b[0m                 \u001b[0;31m# re-raise KeyboardInterrupt, to truncate traceback\u001b[0m\u001b[0;34m\u001b[0m\u001b[0;34m\u001b[0m\u001b[0m\n\u001b[0;32m--> 895\u001b[0;31m                 \u001b[0;32mraise\u001b[0m \u001b[0mKeyboardInterrupt\u001b[0m\u001b[0;34m(\u001b[0m\u001b[0;34m\"Interrupted by user\"\u001b[0m\u001b[0;34m)\u001b[0m \u001b[0;32mfrom\u001b[0m \u001b[0;32mNone\u001b[0m\u001b[0;34m\u001b[0m\u001b[0;34m\u001b[0m\u001b[0m\n\u001b[0m\u001b[1;32m    896\u001b[0m             \u001b[0;32mexcept\u001b[0m \u001b[0mException\u001b[0m \u001b[0;32mas\u001b[0m \u001b[0me\u001b[0m\u001b[0;34m:\u001b[0m\u001b[0;34m\u001b[0m\u001b[0;34m\u001b[0m\u001b[0m\n\u001b[1;32m    897\u001b[0m                 \u001b[0mself\u001b[0m\u001b[0;34m.\u001b[0m\u001b[0mlog\u001b[0m\u001b[0;34m.\u001b[0m\u001b[0mwarning\u001b[0m\u001b[0;34m(\u001b[0m\u001b[0;34m\"Invalid Message:\"\u001b[0m\u001b[0;34m,\u001b[0m \u001b[0mexc_info\u001b[0m\u001b[0;34m=\u001b[0m\u001b[0;32mTrue\u001b[0m\u001b[0;34m)\u001b[0m\u001b[0;34m\u001b[0m\u001b[0;34m\u001b[0m\u001b[0m\n",
            "\u001b[0;31mKeyboardInterrupt\u001b[0m: Interrupted by user"
          ]
        }
      ]
    },
    {
      "cell_type": "markdown",
      "source": [
        "exemplo 1 python contador"
      ],
      "metadata": {
        "id": "v2iwkVfrxozr"
      }
    },
    {
      "cell_type": "code",
      "source": [
        "contador = 1\n",
        "while contador <= 5:\n",
        "  print(\"mensagem\", contador)\n",
        "  contador = contador + 1"
      ],
      "metadata": {
        "colab": {
          "base_uri": "https://localhost:8080/"
        },
        "id": "jp9zi9FsxqNj",
        "outputId": "7b01c65e-4bda-4412-fc69-46f9ba40356e"
      },
      "execution_count": null,
      "outputs": [
        {
          "output_type": "stream",
          "name": "stdout",
          "text": [
            "mensagem 1\n",
            "mensagem 2\n",
            "mensagem 3\n",
            "mensagem 4\n",
            "mensagem 5\n"
          ]
        }
      ]
    },
    {
      "cell_type": "markdown",
      "source": [
        "exemplo python 2 - acumulador"
      ],
      "metadata": {
        "id": "aDHATE2-zJWQ"
      }
    },
    {
      "cell_type": "code",
      "source": [
        "contador = 1\n",
        "nota = 0\n",
        "soma = 0\n",
        "media = 0\n",
        "while contador <= 5:\n",
        "  print(\"Digite a nota \", contador)\n",
        "  nota = float(input())\n",
        "  soma = soma + nota\n",
        "  contador += 1\n",
        "\n",
        "print(\"Soma: \", soma)\n",
        "media = soma / 5\n",
        "print(\"média: \", media)"
      ],
      "metadata": {
        "colab": {
          "base_uri": "https://localhost:8080/"
        },
        "id": "CgXe3MauzLW4",
        "outputId": "b0b2cd62-a4a6-493c-d2e0-00917177c949"
      },
      "execution_count": null,
      "outputs": [
        {
          "output_type": "stream",
          "name": "stdout",
          "text": [
            "Digite a nota  1\n",
            "25\n",
            "Digite a nota  2\n",
            "644\n",
            "Digite a nota  3\n",
            "54\n",
            "Digite a nota  4\n",
            "78\n",
            "Digite a nota  5\n",
            "54\n",
            "Soma:  855.0\n",
            "média:  171.0\n"
          ]
        }
      ]
    },
    {
      "cell_type": "markdown",
      "source": [
        "validador de notas"
      ],
      "metadata": {
        "id": "p3v-bQ-s3gRz"
      }
    },
    {
      "cell_type": "code",
      "source": [
        "nota = float(input(\"Digite a nota: \"))\n",
        "\n",
        "while nota > 10 or nota < 0:\n",
        "  print(\"Digite a nota: \")\n",
        "  nota = float(input())"
      ],
      "metadata": {
        "colab": {
          "base_uri": "https://localhost:8080/"
        },
        "id": "xzlhgtQK3k2k",
        "outputId": "904ce30c-e560-4e75-d6e8-0cb67ac54a20"
      },
      "execution_count": null,
      "outputs": [
        {
          "name": "stdout",
          "output_type": "stream",
          "text": [
            "Digite a nota: 45\n",
            "Digite a nota: \n",
            "78\n",
            "Digite a nota: \n",
            "24\n",
            "Digite a nota: \n",
            "46\n",
            "Digite a nota: \n",
            "5\n"
          ]
        }
      ]
    },
    {
      "cell_type": "markdown",
      "source": [
        "ex usuário"
      ],
      "metadata": {
        "id": "dUoqLI-KG8Zc"
      }
    },
    {
      "cell_type": "code",
      "source": [
        "nota = 0\n",
        "continua = 's'\n",
        "while continua == 's':\n",
        "  print(\"Digite a nota: \")\n",
        "  nota = float(input())\n",
        "  print(\"Deseja continuar a leitura das notas (s/n)?\")\n",
        "  continua = input()"
      ],
      "metadata": {
        "colab": {
          "base_uri": "https://localhost:8080/"
        },
        "id": "1DxDGxd6H3H8",
        "outputId": "7b8202d9-5d0c-4595-b4d0-4fafc857fd0b"
      },
      "execution_count": null,
      "outputs": [
        {
          "name": "stdout",
          "output_type": "stream",
          "text": [
            "Digite a nota: \n",
            "45\n",
            "Deseja continuar a leitura das notas (s/n)?\n",
            "s\n",
            "Digite a nota: \n",
            "665\n",
            "Deseja continuar a leitura das notas (s/n)?\n",
            "n\n"
          ]
        }
      ]
    },
    {
      "cell_type": "markdown",
      "source": [
        "For no python"
      ],
      "metadata": {
        "id": "oeoSTMH0i9H8"
      }
    },
    {
      "cell_type": "code",
      "source": [
        "for contador in range(1, 6):\n",
        "  print(\"mensagem \", contador)"
      ],
      "metadata": {
        "colab": {
          "base_uri": "https://localhost:8080/"
        },
        "id": "av3KabZci-Z8",
        "outputId": "d5fa2c00-c85e-4b67-92c5-d45c7d635f33"
      },
      "execution_count": null,
      "outputs": [
        {
          "output_type": "stream",
          "name": "stdout",
          "text": [
            "mensagem  1\n",
            "mensagem  2\n",
            "mensagem  3\n",
            "mensagem  4\n",
            "mensagem  5\n"
          ]
        }
      ]
    },
    {
      "cell_type": "code",
      "source": [
        "for contador in range(5, 0, -1):\n",
        "  print(\"mensagem \", contador)"
      ],
      "metadata": {
        "colab": {
          "base_uri": "https://localhost:8080/"
        },
        "id": "GzP4ZuAVj-VF",
        "outputId": "1cba99c4-d914-4c8c-8e11-49849355c003"
      },
      "execution_count": null,
      "outputs": [
        {
          "output_type": "stream",
          "name": "stdout",
          "text": [
            "mensagem  5\n",
            "mensagem  4\n",
            "mensagem  3\n",
            "mensagem  2\n",
            "mensagem  1\n"
          ]
        }
      ]
    },
    {
      "cell_type": "code",
      "source": [
        "soma = 0.0\n",
        "media = 0.0\n",
        "for contador in range(1, 6):\n",
        "  print(\"Digite a nota \", contador)\n",
        "  nota = float(input())\n",
        "  soma += nota\n",
        "media = soma / 5\n",
        "print(\"média: \", media)"
      ],
      "metadata": {
        "colab": {
          "base_uri": "https://localhost:8080/"
        },
        "id": "-adMaNOKkK82",
        "outputId": "29718cfb-2981-470e-e274-7c956a9ee6f4"
      },
      "execution_count": null,
      "outputs": [
        {
          "output_type": "stream",
          "name": "stdout",
          "text": [
            "Digite a nota  1\n",
            "45\n",
            "Digite a nota  2\n",
            "56\n",
            "Digite a nota  3\n",
            "68\n",
            "Digite a nota  4\n",
            "90\n",
            "Digite a nota  5\n",
            "87\n",
            "média:  69.2\n"
          ]
        }
      ]
    },
    {
      "cell_type": "markdown",
      "source": [
        "Exerc1 contador"
      ],
      "metadata": {
        "id": "R-muXSeyo6EZ"
      }
    },
    {
      "cell_type": "code",
      "source": [
        "for contador in range(15, 200):\n",
        "  quadrado = contador * contador\n",
        "  print(quadrado)"
      ],
      "metadata": {
        "colab": {
          "base_uri": "https://localhost:8080/"
        },
        "id": "Ry04PYpuo7zx",
        "outputId": "49718c60-b70b-47fd-a453-da58000015ba"
      },
      "execution_count": null,
      "outputs": [
        {
          "output_type": "stream",
          "name": "stdout",
          "text": [
            "225\n",
            "256\n",
            "289\n",
            "324\n",
            "361\n",
            "400\n",
            "441\n",
            "484\n",
            "529\n",
            "576\n",
            "625\n",
            "676\n",
            "729\n",
            "784\n",
            "841\n",
            "900\n",
            "961\n",
            "1024\n",
            "1089\n",
            "1156\n",
            "1225\n",
            "1296\n",
            "1369\n",
            "1444\n",
            "1521\n",
            "1600\n",
            "1681\n",
            "1764\n",
            "1849\n",
            "1936\n",
            "2025\n",
            "2116\n",
            "2209\n",
            "2304\n",
            "2401\n",
            "2500\n",
            "2601\n",
            "2704\n",
            "2809\n",
            "2916\n",
            "3025\n",
            "3136\n",
            "3249\n",
            "3364\n",
            "3481\n",
            "3600\n",
            "3721\n",
            "3844\n",
            "3969\n",
            "4096\n",
            "4225\n",
            "4356\n",
            "4489\n",
            "4624\n",
            "4761\n",
            "4900\n",
            "5041\n",
            "5184\n",
            "5329\n",
            "5476\n",
            "5625\n",
            "5776\n",
            "5929\n",
            "6084\n",
            "6241\n",
            "6400\n",
            "6561\n",
            "6724\n",
            "6889\n",
            "7056\n",
            "7225\n",
            "7396\n",
            "7569\n",
            "7744\n",
            "7921\n",
            "8100\n",
            "8281\n",
            "8464\n",
            "8649\n",
            "8836\n",
            "9025\n",
            "9216\n",
            "9409\n",
            "9604\n",
            "9801\n",
            "10000\n",
            "10201\n",
            "10404\n",
            "10609\n",
            "10816\n",
            "11025\n",
            "11236\n",
            "11449\n",
            "11664\n",
            "11881\n",
            "12100\n",
            "12321\n",
            "12544\n",
            "12769\n",
            "12996\n",
            "13225\n",
            "13456\n",
            "13689\n",
            "13924\n",
            "14161\n",
            "14400\n",
            "14641\n",
            "14884\n",
            "15129\n",
            "15376\n",
            "15625\n",
            "15876\n",
            "16129\n",
            "16384\n",
            "16641\n",
            "16900\n",
            "17161\n",
            "17424\n",
            "17689\n",
            "17956\n",
            "18225\n",
            "18496\n",
            "18769\n",
            "19044\n",
            "19321\n",
            "19600\n",
            "19881\n",
            "20164\n",
            "20449\n",
            "20736\n",
            "21025\n",
            "21316\n",
            "21609\n",
            "21904\n",
            "22201\n",
            "22500\n",
            "22801\n",
            "23104\n",
            "23409\n",
            "23716\n",
            "24025\n",
            "24336\n",
            "24649\n",
            "24964\n",
            "25281\n",
            "25600\n",
            "25921\n",
            "26244\n",
            "26569\n",
            "26896\n",
            "27225\n",
            "27556\n",
            "27889\n",
            "28224\n",
            "28561\n",
            "28900\n",
            "29241\n",
            "29584\n",
            "29929\n",
            "30276\n",
            "30625\n",
            "30976\n",
            "31329\n",
            "31684\n",
            "32041\n",
            "32400\n",
            "32761\n",
            "33124\n",
            "33489\n",
            "33856\n",
            "34225\n",
            "34596\n",
            "34969\n",
            "35344\n",
            "35721\n",
            "36100\n",
            "36481\n",
            "36864\n",
            "37249\n",
            "37636\n",
            "38025\n",
            "38416\n",
            "38809\n",
            "39204\n",
            "39601\n"
          ]
        }
      ]
    },
    {
      "cell_type": "markdown",
      "source": [
        "exerc2"
      ],
      "metadata": {
        "id": "So0YmVB9qYQr"
      }
    },
    {
      "cell_type": "code",
      "source": [
        "soma = 0\n",
        "for contador in range(1, 101):\n",
        "  soma += contador\n",
        "print(\"Soma dos 100 primeiros números inteiros\", soma)\n",
        "\n"
      ],
      "metadata": {
        "colab": {
          "base_uri": "https://localhost:8080/"
        },
        "id": "5Xj1vtvRqZRh",
        "outputId": "086d99bc-c8d9-41e2-e55a-09c8d023487c"
      },
      "execution_count": null,
      "outputs": [
        {
          "output_type": "stream",
          "name": "stdout",
          "text": [
            "Soma dos 100 primeiros números inteiros 5050\n"
          ]
        }
      ]
    },
    {
      "cell_type": "markdown",
      "source": [
        "exer 3"
      ],
      "metadata": {
        "id": "rKtvWOmQu8zi"
      }
    },
    {
      "cell_type": "code",
      "source": [
        "negativos = 0\n",
        "for contador in range (1, 6):\n",
        "  print(\"Digite o valor \", contador)\n",
        "  valor = float(input())\n",
        "  if valor < 0:\n",
        "    negativos += 1\n",
        "print(\"quantidade de números negativos: \", negativos)"
      ],
      "metadata": {
        "colab": {
          "base_uri": "https://localhost:8080/"
        },
        "id": "HuDcnUJ6u-Wy",
        "outputId": "1f186ef4-d793-44f1-9274-e36767fa773d"
      },
      "execution_count": null,
      "outputs": [
        {
          "output_type": "stream",
          "name": "stdout",
          "text": [
            "Digite o valor  1\n",
            "2\n",
            "Digite o valor  2\n",
            "3\n",
            "Digite o valor  3\n",
            "-5\n",
            "Digite o valor  4\n",
            "-8\n",
            "Digite o valor  5\n",
            "10\n",
            "quantidade de números negativos:  2\n"
          ]
        }
      ]
    },
    {
      "cell_type": "markdown",
      "source": [
        "Exercicios com if, else e elif"
      ],
      "metadata": {
        "id": "mSGmbQlG39tf"
      }
    },
    {
      "cell_type": "code",
      "source": [
        "idade = int(input(\"Digite o valor da sua idade: \"))\n",
        "\n",
        "if idade >=16:\n",
        "  print(\"Você já pode votar\")\n",
        "elif idade < 16:\n",
        "  print(\"Ainda não é permitido votar\")"
      ],
      "metadata": {
        "colab": {
          "base_uri": "https://localhost:8080/"
        },
        "id": "kejUtcWI4CTX",
        "outputId": "40d60565-3b56-4b81-b34e-aebd4ba17bfa"
      },
      "execution_count": null,
      "outputs": [
        {
          "output_type": "stream",
          "name": "stdout",
          "text": [
            "Digite o valor da sua idade: 16\n",
            "Você já pode votar\n"
          ]
        }
      ]
    },
    {
      "cell_type": "code",
      "source": [
        "numero = float(input(\"Digite o número que desejas: \"))\n",
        "\n",
        "if numero < 0:\n",
        "  print(\"O número é negativo\")\n",
        "elif numero > 0:\n",
        "  print(\"O número é positivo\")\n",
        "elif numero == 0:\n",
        "  print(\"O numero é zero\")"
      ],
      "metadata": {
        "colab": {
          "base_uri": "https://localhost:8080/"
        },
        "id": "ybb8X74g5Pd6",
        "outputId": "9085d657-817b-4ac1-da7a-3fd452ec2c18"
      },
      "execution_count": null,
      "outputs": [
        {
          "output_type": "stream",
          "name": "stdout",
          "text": [
            "Digite o número que desejas: 0\n",
            "O numero é zero\n"
          ]
        }
      ]
    },
    {
      "cell_type": "code",
      "source": [
        "num1 = float(input(\"Digite o primeiro número: \"))\n",
        "num2 = float(input(\"Digite o segundo número: \"))\n",
        "num3 = float(input(\"Digite o terceiro número: \"))\n",
        "\n",
        "if num1 > num2 and num1 >= num3:\n",
        "  maior = num1\n",
        "elif num2 >= num1 and num2 >= num3:\n",
        "  maior = num2\n",
        "else:\n",
        "  maior = num3\n",
        "\n",
        "print(\"O maior número é: \", maior)\n",
        "\n"
      ],
      "metadata": {
        "colab": {
          "base_uri": "https://localhost:8080/"
        },
        "id": "4Qvcc0SZ50-2",
        "outputId": "c37dcac2-2faf-4caa-c2ce-b82f6c070ad8"
      },
      "execution_count": null,
      "outputs": [
        {
          "output_type": "stream",
          "name": "stdout",
          "text": [
            "Digite o primeiro número: 45\n",
            "Digite o segundo número: 65\n",
            "Digite o terceiro número: 34\n",
            "O maior número é:  65.0\n"
          ]
        }
      ]
    },
    {
      "cell_type": "code",
      "source": [
        "nota = float(input(\"Insira a nota: \"))\n",
        "\n",
        "if nota >= 7 and nota <= 10:\n",
        "  print(\"Aluno aprovado!\")\n",
        "elif nota < 7 or nota == 5:\n",
        "  print(\"recuperação\")\n",
        "elif nota < 5:\n",
        "  print(\"Reprovado\")\n",
        "else:\n",
        "  print(\"nova inválida\")\n"
      ],
      "metadata": {
        "colab": {
          "base_uri": "https://localhost:8080/"
        },
        "id": "nHj82Nzg8Vfh",
        "outputId": "66767a00-5db6-4725-89bf-ab4f7f35ba10"
      },
      "execution_count": null,
      "outputs": [
        {
          "output_type": "stream",
          "name": "stdout",
          "text": [
            "Insira a nota: 56\n",
            "nova inválida\n"
          ]
        }
      ]
    },
    {
      "cell_type": "markdown",
      "source": [
        "exercicios while e for"
      ],
      "metadata": {
        "id": "ni90nQSy9yBt"
      }
    },
    {
      "cell_type": "code",
      "source": [
        "contador = 10\n",
        "\n",
        "while contador >= 1:\n",
        "  print(contador)\n",
        "  contador -= 1\n",
        "\n",
        "print(\"FIM\")"
      ],
      "metadata": {
        "colab": {
          "base_uri": "https://localhost:8080/"
        },
        "id": "Eosmr7Hr9z3m",
        "outputId": "ced2eee5-4901-447b-f222-f253c2fb64bf"
      },
      "execution_count": null,
      "outputs": [
        {
          "output_type": "stream",
          "name": "stdout",
          "text": [
            "10\n",
            "9\n",
            "8\n",
            "7\n",
            "6\n",
            "5\n",
            "4\n",
            "3\n",
            "2\n",
            "1\n",
            "FIM\n"
          ]
        }
      ]
    },
    {
      "cell_type": "code",
      "source": [
        "soma = 0\n",
        "numero = int(input(\"Digite um número: \"))\n",
        "\n",
        "while numero != 0:\n",
        "  soma += numero\n",
        "  numero = int(input(\"Digite um número: \"))\n",
        "\n",
        "print(\"A soma total dos números digitados é: \", soma)"
      ],
      "metadata": {
        "colab": {
          "base_uri": "https://localhost:8080/"
        },
        "id": "s6MhmS2E-oQH",
        "outputId": "32946eca-f249-4894-af88-9a8f0f144ab3"
      },
      "execution_count": null,
      "outputs": [
        {
          "output_type": "stream",
          "name": "stdout",
          "text": [
            "Digite um número: 67\n",
            "Digite um número: 54\n",
            "Digite um número: 7\n",
            "Digite um número: 78\n",
            "Digite um número: 0\n",
            "A soma total dos números digitados é:  206\n"
          ]
        }
      ]
    },
    {
      "cell_type": "code",
      "source": [
        "numero = int(input(\"insira seu numero: \"))\n",
        "\n",
        "for i in range (1, 11):\n",
        "  print(numero * i)"
      ],
      "metadata": {
        "colab": {
          "base_uri": "https://localhost:8080/"
        },
        "id": "cB95k9vQDk0m",
        "outputId": "9a2a4edf-8098-4e42-a75a-c533694ab699"
      },
      "execution_count": null,
      "outputs": [
        {
          "output_type": "stream",
          "name": "stdout",
          "text": [
            "insira seu numero: 54\n",
            "54\n",
            "108\n",
            "162\n",
            "216\n",
            "270\n",
            "324\n",
            "378\n",
            "432\n",
            "486\n",
            "540\n"
          ]
        }
      ]
    },
    {
      "cell_type": "markdown",
      "source": [
        "novamente"
      ],
      "metadata": {
        "id": "OT2Rt9a6PfEe"
      }
    },
    {
      "cell_type": "code",
      "source": [
        "numero = int(input(\"Insira o número: \"))\n",
        "\n",
        "for i in range(1,11):\n",
        "  print(numero * i)\n"
      ],
      "metadata": {
        "colab": {
          "base_uri": "https://localhost:8080/"
        },
        "id": "kHUIqXoGPgZt",
        "outputId": "aec0bd02-965f-419e-c3eb-97a71d5444aa"
      },
      "execution_count": null,
      "outputs": [
        {
          "output_type": "stream",
          "name": "stdout",
          "text": [
            "Insira o número: 2\n",
            "2\n",
            "4\n",
            "6\n",
            "8\n",
            "10\n",
            "12\n",
            "14\n",
            "16\n",
            "18\n",
            "20\n"
          ]
        }
      ]
    },
    {
      "cell_type": "code",
      "source": [
        "soma = 0\n",
        "\n",
        "for i in range (1,101):\n",
        "  soma += i\n",
        "print(soma)"
      ],
      "metadata": {
        "colab": {
          "base_uri": "https://localhost:8080/"
        },
        "id": "ZGDy0Xe-Q7Zx",
        "outputId": "9206c503-eff9-4843-81e7-b8ebc229755d"
      },
      "execution_count": null,
      "outputs": [
        {
          "output_type": "stream",
          "name": "stdout",
          "text": [
            "5050\n"
          ]
        }
      ]
    },
    {
      "cell_type": "code",
      "source": [
        "numero = int(input(\"Digite um número: \"))\n",
        "\n",
        "while numero >= 0:\n",
        "  print(numero)\n",
        "  numero -= 1\n",
        "\n"
      ],
      "metadata": {
        "colab": {
          "base_uri": "https://localhost:8080/"
        },
        "id": "pmpE79vgRqwq",
        "outputId": "59f13a5f-3759-46dc-e7e5-387e0a3a850d"
      },
      "execution_count": null,
      "outputs": [
        {
          "output_type": "stream",
          "name": "stdout",
          "text": [
            "Digite um número: 98\n",
            "98\n",
            "97\n",
            "96\n",
            "95\n",
            "94\n",
            "93\n",
            "92\n",
            "91\n",
            "90\n",
            "89\n",
            "88\n",
            "87\n",
            "86\n",
            "85\n",
            "84\n",
            "83\n",
            "82\n",
            "81\n",
            "80\n",
            "79\n",
            "78\n",
            "77\n",
            "76\n",
            "75\n",
            "74\n",
            "73\n",
            "72\n",
            "71\n",
            "70\n",
            "69\n",
            "68\n",
            "67\n",
            "66\n",
            "65\n",
            "64\n",
            "63\n",
            "62\n",
            "61\n",
            "60\n",
            "59\n",
            "58\n",
            "57\n",
            "56\n",
            "55\n",
            "54\n",
            "53\n",
            "52\n",
            "51\n",
            "50\n",
            "49\n",
            "48\n",
            "47\n",
            "46\n",
            "45\n",
            "44\n",
            "43\n",
            "42\n",
            "41\n",
            "40\n",
            "39\n",
            "38\n",
            "37\n",
            "36\n",
            "35\n",
            "34\n",
            "33\n",
            "32\n",
            "31\n",
            "30\n",
            "29\n",
            "28\n",
            "27\n",
            "26\n",
            "25\n",
            "24\n",
            "23\n",
            "22\n",
            "21\n",
            "20\n",
            "19\n",
            "18\n",
            "17\n",
            "16\n",
            "15\n",
            "14\n",
            "13\n",
            "12\n",
            "11\n",
            "10\n",
            "9\n",
            "8\n",
            "7\n",
            "6\n",
            "5\n",
            "4\n",
            "3\n",
            "2\n",
            "1\n",
            "0\n"
          ]
        }
      ]
    },
    {
      "cell_type": "markdown",
      "source": [],
      "metadata": {
        "id": "gvumNgfPbcjf"
      }
    },
    {
      "cell_type": "code",
      "source": [
        "soma = 0\n",
        "while numero != 0:\n",
        "  numero = int(input(\"Digite o número: \"))\n",
        "  soma += numero\n",
        "print(\"O resultado é: \", soma)\n",
        "\n",
        "\n",
        "\n"
      ],
      "metadata": {
        "colab": {
          "base_uri": "https://localhost:8080/"
        },
        "id": "7DCAthJvTreq",
        "outputId": "89813448-0384-47d4-bcbd-98c0e7bc98be"
      },
      "execution_count": null,
      "outputs": [
        {
          "output_type": "stream",
          "name": "stdout",
          "text": [
            "Digite o número: 5\n",
            "Digite o número: 8\n",
            "Digite o número: 9\n",
            "Digite o número: 1\n",
            "Digite o número: 0\n",
            "O resultado é:  23\n"
          ]
        }
      ]
    },
    {
      "cell_type": "code",
      "source": [
        "numero = 0\n",
        "while int(numero) != -1:\n",
        "  numero = (input(\"digite um número: \"))\n",
        "  ultimo_digito = int(numero [-1])\n",
        "  print (type (ultimo_digito))\n",
        "  if ultimo_digito in [0, 2, 4, 6, 8]:\n",
        "    print(\"o numero é par\")\n",
        "\n",
        "  else:\n",
        "    print(\"o numero é ímpar\")\n",
        "\n",
        "\n"
      ],
      "metadata": {
        "colab": {
          "base_uri": "https://localhost:8080/"
        },
        "id": "ftZOpffgVk2f",
        "outputId": "0ced431a-7243-4a68-e2a9-10d99ad23717"
      },
      "execution_count": null,
      "outputs": [
        {
          "output_type": "stream",
          "name": "stdout",
          "text": [
            "digite um número: 546\n",
            "<class 'int'>\n",
            "o numero é par\n",
            "digite um número: 545\n",
            "<class 'int'>\n",
            "o numero é ímpar\n",
            "digite um número: -1\n",
            "<class 'int'>\n",
            "o numero é ímpar\n"
          ]
        }
      ]
    },
    {
      "cell_type": "code",
      "source": [
        "numero = 0\n",
        "while numero != -1:\n",
        "  numero = int((input(\"digite um número: \")))\n",
        "  if numero % 7 == 0:\n",
        "    print(\"o numero é impar\")\n",
        "  else:\n",
        "    print(\"o numero é par\")"
      ],
      "metadata": {
        "colab": {
          "base_uri": "https://localhost:8080/"
        },
        "id": "xQlhvKyCfm5E",
        "outputId": "ab096376-297e-4d2e-a0a4-e86620ce6919"
      },
      "execution_count": null,
      "outputs": [
        {
          "output_type": "stream",
          "name": "stdout",
          "text": [
            "digite um número: 6\n",
            "o numero é par\n",
            "digite um número: 7\n",
            "o numero é impar\n",
            "digite um número: 8\n",
            "o numero é par\n",
            "digite um número: 9\n",
            "o numero é par\n",
            "digite um número: 23\n",
            "o numero é par\n",
            "digite um número: -1\n",
            "o numero é par\n"
          ]
        }
      ]
    },
    {
      "cell_type": "code",
      "source": [
        "numero = 12\n",
        "contador = 0\n",
        "while numero != 0:\n",
        "  numero = int(input(\"insira o número: \"))\n",
        "  if numero > 0:\n",
        "    contador += 1\n",
        "\n",
        "  else:\n",
        "    print(\"o número é negativo\")\n",
        "\n",
        "print(\"a quantidade de números positivos é: \", contador)"
      ],
      "metadata": {
        "colab": {
          "base_uri": "https://localhost:8080/"
        },
        "id": "700VgQKJiIeh",
        "outputId": "639c58ba-6e3c-4b5b-fe12-4bb450558046"
      },
      "execution_count": null,
      "outputs": [
        {
          "output_type": "stream",
          "name": "stdout",
          "text": [
            "insira o número: 5\n",
            "insira o número: 3\n",
            "insira o número: 6\n",
            "insira o número: 0\n",
            "o número é negativo\n",
            "a quantidade de números positivos é:  3\n"
          ]
        }
      ]
    },
    {
      "cell_type": "markdown",
      "source": [
        "exer multiplicação"
      ],
      "metadata": {
        "id": "WmzV2YcniNVC"
      }
    },
    {
      "cell_type": "code",
      "source": [
        "resultado = 1\n",
        "numeros = 3\n",
        "while numeros != 1:\n",
        "  numeros = int(input(\"Insira o numero para sua multiplicação: \"))\n",
        "  resultado *= numeros\n",
        "\n",
        "print(\"a multiplicação dos números é: \", resultado)\n"
      ],
      "metadata": {
        "colab": {
          "base_uri": "https://localhost:8080/"
        },
        "id": "EuL40-txiPJx",
        "outputId": "4e520f3c-e0fb-439f-ab72-9f6a990ecbef"
      },
      "execution_count": null,
      "outputs": [
        {
          "output_type": "stream",
          "name": "stdout",
          "text": [
            "Insira o numero para sua multiplicação: 54\n",
            "Insira o numero para sua multiplicação: 2\n",
            "Insira o numero para sua multiplicação: 1\n",
            "a multiplicação dos números é:  108\n"
          ]
        }
      ]
    },
    {
      "cell_type": "markdown",
      "source": [
        "exer media notas"
      ],
      "metadata": {
        "id": "8IarBOGQmc5X"
      }
    },
    {
      "cell_type": "code",
      "source": [
        "contador = 0\n",
        "media = 0\n",
        "nota = 0\n",
        "soma = 0\n",
        "\n",
        "while nota >= 0 and nota <= 10:\n",
        "  nota = int(input(\"insira sua nota: \"))\n",
        "  if nota == -1:\n",
        "    break\n",
        "  soma += nota\n",
        "  contador += 1\n",
        "\n",
        "\n",
        "media = soma / contador\n",
        "\n",
        "print(soma)\n",
        "print(media)"
      ],
      "metadata": {
        "colab": {
          "base_uri": "https://localhost:8080/"
        },
        "id": "Mmo1B-3JmefI",
        "outputId": "d7c40740-02b5-4a92-f2a5-887f41c676b9"
      },
      "execution_count": null,
      "outputs": [
        {
          "output_type": "stream",
          "name": "stdout",
          "text": [
            "insira sua nota: 5\n",
            "insira sua nota: 5\n",
            "insira sua nota: -1\n",
            "10\n",
            "5.0\n"
          ]
        }
      ]
    },
    {
      "cell_type": "markdown",
      "source": [
        "exer contagem vogais"
      ],
      "metadata": {
        "id": "JWD_94ZHyUmi"
      }
    },
    {
      "cell_type": "code",
      "source": [
        "#insira a palavra\n",
        "#enquanto na palavra conter (a,e,i,o,u):\n",
        "#conte essas letras e me diga quantas vogais tem\n",
        "\n",
        "vogais = (\"a\", \"e\", \"i\", \"o\" ,\"u\")\n",
        "palavra = input(\"insira sua palavra: \")\n",
        "\n",
        "for vogais in palavra:\n",
        "  contador += 1\n",
        "\n",
        "print(\"a quantidade de vogasi é: \", contador)"
      ],
      "metadata": {
        "colab": {
          "base_uri": "https://localhost:8080/"
        },
        "id": "Rw5yi6i2yV24",
        "outputId": "4918f22a-4ce7-4c86-8065-cbd5ff28f027"
      },
      "execution_count": null,
      "outputs": [
        {
          "output_type": "stream",
          "name": "stdout",
          "text": [
            "insira sua palavra: março\n",
            "a quantidade de vogasi é:  9\n"
          ]
        }
      ]
    },
    {
      "cell_type": "code",
      "source": [
        "vogais = str(\"a, e, i, o, u\")\n",
        "palavra = str(input(\"insira sua palavra: \"))\n",
        "print(palavra)\n",
        "len(palavra)\n",
        "\n",
        "while palavra:\n",
        "  if vogais in palavra:\n",
        "    print(\"a quantidade de vogais é: \", len(vogais))\n",
        "  else:\n",
        "      print(\"não tem\")\n",
        "\n",
        "\n"
      ],
      "metadata": {
        "id": "_qzMhkAwf2eD"
      },
      "execution_count": null,
      "outputs": []
    },
    {
      "cell_type": "code",
      "source": [
        "\n",
        "vogais = str(\"a, e, i, o, u\")\n",
        "palavra = str(input(\"insira sua palavra: \"))\n",
        "\n",
        "for vogais in palavra:\n",
        "  print(\"contém\")\n",
        "\n",
        "else:\n",
        "  print(\"não tem\")\n"
      ],
      "metadata": {
        "colab": {
          "base_uri": "https://localhost:8080/"
        },
        "id": "Ir3KqlwEkzeT",
        "outputId": "a2fe2968-9f18-48e9-d611-54d29660bd61"
      },
      "execution_count": null,
      "outputs": [
        {
          "output_type": "stream",
          "name": "stdout",
          "text": [
            "insira sua palavra: gato\n",
            "contém\n",
            "contém\n",
            "contém\n",
            "contém\n",
            "não tem\n"
          ]
        }
      ]
    },
    {
      "cell_type": "code",
      "source": [
        "vogais = \"aeiou\"\n",
        "palavra = input(\"Insira sua palavra: \")\n",
        "\n",
        "contador = 0\n",
        "for letra in palavra:\n",
        "    if letra in vogais:\n",
        "        contador += 1\n",
        "\n",
        "print(\"A quantidade de vogais é:\", contador)"
      ],
      "metadata": {
        "colab": {
          "base_uri": "https://localhost:8080/"
        },
        "id": "zyNPrFXJnXNI",
        "outputId": "daf7eaee-8e67-4f22-f83d-ac7deb55183f"
      },
      "execution_count": null,
      "outputs": [
        {
          "output_type": "stream",
          "name": "stdout",
          "text": [
            "Insira sua palavra: gato\n",
            "A quantidade de vogais é: 2\n"
          ]
        }
      ]
    },
    {
      "cell_type": "markdown",
      "source": [
        "exer caixa eletronico"
      ],
      "metadata": {
        "id": "4gor0rJlOXeW"
      }
    },
    {
      "cell_type": "code",
      "source": [
        "saldo = 0\n",
        "print(\"o valor do seu saldo é: \", saldo)\n",
        "\n",
        "while saldo == 0:\n",
        "  entrada = input(\"escolha uma opção (depositar, sacar, ou sair): \")\n",
        "\n",
        "  if entrada == \"sair\":\n",
        "    break\n",
        "\n",
        "  if entrada == \"depositar\":\n",
        "    valor = float(input(\"insira o valor de depósito: \"))\n",
        "    saldo += valor\n",
        "\n",
        "  elif entrada == \"sacar\":\n",
        "    valor = float(input(\"Digite o valor pra sacar:\" ))\n",
        "    saldo -= valor\n",
        "\n",
        "  else:\n",
        "      print(\"saldo insuficiente\")"
      ],
      "metadata": {
        "colab": {
          "base_uri": "https://localhost:8080/"
        },
        "id": "ujSDeAM8OZzb",
        "outputId": "9873b420-efe0-48a3-9704-7c83845e5b0a"
      },
      "execution_count": null,
      "outputs": [
        {
          "name": "stdout",
          "output_type": "stream",
          "text": [
            "o valor do seu saldo é:  0\n",
            "escolha uma opção (depositar, sacar, ou sair): sacar\n",
            "Digite o valor pra sacar:59\n"
          ]
        }
      ]
    },
    {
      "cell_type": "code",
      "source": [
        "saldo = 0\n",
        "\n",
        "while True:\n",
        "    print(\"Saldo atual: R$\", saldo)\n",
        "    opcao = input(\"Escolha uma opção (depositar, sacar, sair): \").lower()\n",
        "\n",
        "    if opcao == \"depositar\":\n",
        "        valor = float(input(\"Digite o valor para depositar: \"))\n",
        "        saldo += valor\n",
        "\n",
        "    elif opcao == \"sacar\":\n",
        "        valor = float(input(\"Digite o valor para sacar: \"))\n",
        "        if valor <= saldo:\n",
        "            saldo -= valor\n",
        "        else:\n",
        "            print(\"Saldo insuficiente!\")\n",
        "\n",
        "    elif opcao == \"sair\":\n",
        "        break\n",
        "    else:\n",
        "        print(\"Opção inválida!\")\n",
        "\n",
        "print(\"Programa encerrado. Seu saldo final é:\", saldo)"
      ],
      "metadata": {
        "colab": {
          "base_uri": "https://localhost:8080/"
        },
        "id": "LXO5Wqdak921",
        "outputId": "d9083f57-6db9-4249-9e42-5631a2872ed2"
      },
      "execution_count": null,
      "outputs": [
        {
          "output_type": "stream",
          "name": "stdout",
          "text": [
            "Saldo atual: R$ 0\n",
            "Escolha uma opção (depositar, sacar, sair): depositar\n",
            "Digite o valor para depositar: 299\n",
            "Saldo atual: R$ 299.0\n",
            "Escolha uma opção (depositar, sacar, sair): sacar\n",
            "Digite o valor para sacar: 50\n",
            "Saldo atual: R$ 249.0\n",
            "Escolha uma opção (depositar, sacar, sair): sair\n",
            "Programa encerrado. Seu saldo final é: 249.0\n"
          ]
        }
      ]
    }
  ]
}